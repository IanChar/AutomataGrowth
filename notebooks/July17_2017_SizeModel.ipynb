{
 "cells": [
  {
   "cell_type": "code",
   "execution_count": 1,
   "metadata": {
    "collapsed": true
   },
   "outputs": [],
   "source": [
    "# Run this first!!!\n",
    "from IPython.display import display, HTML\n",
    "\n",
    "from __future__ import division\n",
    "import matplotlib.pyplot as plt\n",
    "from scipy.optimize import brentq\n",
    "\n",
    "import sys\n",
    "sys.path.append('..')\n",
    "import util\n",
    "sys.path.append('../aho_merging')\n",
    "from size_model import SizeModel\n",
    "sys.path.append('../common')\n",
    "import common_probs\n",
    "from sampler import DepthSampler"
   ]
  },
  {
   "cell_type": "markdown",
   "metadata": {},
   "source": [
    "# Parameter Finding"
   ]
  },
  {
   "cell_type": "markdown",
   "metadata": {},
   "source": [
    "## By Eye\n",
    "\n",
    "Let's first see if we can choose appropriate parameters by eye so that it closely fits the curve of the simulated algorithm. Doing this can help justify the use of this model. Let's consider the case where the size of the alphabet is $a = 4$. Then the mean number of states per level converges to about 7. \n",
    "\n",
    "Therefore we need\n",
    "\n",
    "$$\n",
    "\\frac{\\mu_X}{1 - \\mu_Y} \\approx 7 \\implies \\mu_x + 7 \\mu_Y \\approx 7\n",
    "$$\n",
    "\n",
    "It doesn't seem unreasonable to guess that $\\mu_X = 0.2$ meaning that $\\mu_Y = \\frac{68}{70} = 0.97...$. Let's restrict the offspring distribution $F$ so that it can have at most 2 children. "
   ]
  },
  {
   "cell_type": "code",
   "execution_count": 12,
   "metadata": {},
   "outputs": [],
   "source": [
    "def plot_trends(num_samples, length):\n",
    "    alg_trend = get_alg_trend(num_samples, length)[1:]\n",
    "    model_trend = get_model_trend(num_samples, length)\n",
    "    depths = range(1, length + 1)\n",
    "    plt.plot(depths, alg_trend, label='Algorithm')\n",
    "    plt.plot(depths, model_trend, label='Model')\n",
    "    plt.legend(loc='upper right')\n",
    "    plt.show()\n",
    "\n",
    "def get_alg_trend(num_samples, length):\n",
    "    ds = DepthSampler([0.5 for _ in range(4)], length)\n",
    "    df = ds.draw_samples(num_samples, ['number_of_states'])\n",
    "    return df.groupby('depth')['number_of_states'].mean().tolist()\n",
    "    \n",
    "def get_model_trend(num_samples, length):\n",
    "    model = SizeModel(0.2, [0.2, 0.63, 0.17])\n",
    "    return model.do_sims(length, num_samples)"
   ]
  },
  {
   "cell_type": "code",
   "execution_count": 13,
   "metadata": {},
   "outputs": [
    {
     "data": {
      "image/png": "[encoded data removed]",
      "text/plain": [
       "<matplotlib.figure.Figure at 0x7f1af5b33ad0>"
      ]
     },
     "metadata": {},
     "output_type": "display_data"
    }
   ],
   "source": [
    "# Constants\n",
    "NUM_SAMPLES = 100\n",
    "LENGTH = 50\n",
    "\n",
    "plot_trends(NUM_SAMPLES, LENGTH)"
   ]
  }
 ],
 "metadata": {
  "kernelspec": {
   "display_name": "Python 2",
   "language": "python",
   "name": "python2"
  },
  "language_info": {
   "codemirror_mode": {
    "name": "ipython",
    "version": 2
   },
   "file_extension": ".py",
   "mimetype": "text/x-python",
   "name": "python",
   "nbconvert_exporter": "python",
   "pygments_lexer": "ipython2",
   "version": "2.7.12"
  }
 },
 "nbformat": 4,
 "nbformat_minor": 2
}
