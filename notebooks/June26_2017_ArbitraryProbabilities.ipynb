{
 "cells": [
  {
   "cell_type": "code",
   "execution_count": 1,
   "metadata": {
    "collapsed": true
   },
   "outputs": [],
   "source": [
    "# Run this first!!!\n",
    "\n",
    "from __future__ import division\n",
    "import math\n",
    "import numpy as np\n",
    "from matplotlib import pyplot as plt\n",
    "\n",
    "import sys\n",
    "sys.path.append('../common')\n",
    "import util\n",
    "import common_probs\n",
    "import arbitrary_probs_util\n",
    "import arbitrary_probs_calcs as calcs"
   ]
  },
  {
   "cell_type": "markdown",
   "metadata": {},
   "source": [
    "# Overview"
   ]
  },
  {
   "cell_type": "markdown",
   "metadata": {},
   "source": [
    "At this point, I would like to see if the result proved last week will extend to arbitrary probabilities rather than all letters occuring in a given set with probability 1/2. For this define a vector $p$ where entry $p_\\sigma$ is the probability of the letter $\\sigma$ appearing in a given set conditioned on the fact that this set is not empty. It is important to note $p$ is not actually a random vector because its entries do not need to sum to 1.\n",
    "\n",
    "Really the only thing that changes when we relax the constraints on the probabilities is the values of $c_2$ and $c_{1, 2}$. If these values can be found and we can prove (if it is even true) that $c_2^2 \\leq c_{1, 2}$ then the proof should extend arbitrary probabilities."
   ]
  },
  {
   "cell_type": "markdown",
   "metadata": {},
   "source": [
    "# Finding a New $c_2$"
   ]
  },
  {
   "cell_type": "markdown",
   "metadata": {},
   "source": [
    "Consider sets $S_1$ and $S_2$ and the probability that these sets \"match\" (i.e. $S_1 \\cap S_2 \\neq \\emptyset$). Previously I have denoted a \"match\" between two sets as $==$ and the probability $c_2 = P(S_1 == S_2 | S_1 \\neq \\emptyset, S_2 \\neq \\emptyset)$. To calculate $c_2$ note that...\n",
    "\n",
    "$$\n",
    "P(S_1 == S_2) = P(S_1 == S_2 | S_1 \\neq \\emptyset, S_2 \\neq \\emptyset) P( S_1 \\neq \\emptyset, S_2 \\neq \\emptyset) \n",
    "$$\n",
    "$$\n",
    "+ P(S_1 == S_2 | S_1 = \\emptyset, S_2 \\neq \\emptyset) P( S_1 = \\emptyset, S_2 \\neq \\emptyset)\n",
    "$$\n",
    "$$\n",
    "+ P(S_1 == S_2 | S_1 \\neq \\emptyset, S_2 = \\emptyset) P( S_1 \\neq \\emptyset, S_2 = \\emptyset) \n",
    "$$\n",
    "$$\n",
    "+ P(S_1 == S_2 | S_1 = \\emptyset, S_2 = \\emptyset) P( S_1 = \\emptyset, S_2 = \\emptyset)\n",
    "$$\n",
    "\n",
    "Because of my definition of what it means to be matching, two sets cannot be matching if at least one of them is $\\emptyset$. Therefore, only the first term in the sum needs to be considered. Noting this we get the following:\n",
    "\n",
    "$$\n",
    "P(S_1 == S_2 | S_1 \\neq \\emptyset, S_2 \\neq \\emptyset) = \\frac{P(S_1 == S_2)}{P( S_1 \\neq \\emptyset, S_2 \\neq \\emptyset)}\n",
    "$$\n",
    "\n",
    "Now we just need to calculate the numerator and denomenator of this expression. Starting with the numerator...\n",
    "\n",
    "$$\n",
    "P(S_1 == S_2) = 1 - P(S_1 != S_2) = 1 - P\\left(\\sigma \\textrm{ is in not in both $S_1$ and $S_2$ } \\forall \\sigma \\in \\Sigma \\right) \n",
    "$$\n",
    "\n",
    "$$\n",
    "= 1 - \\prod_{\\sigma \\in \\Sigma} \\left(1 - P(\\sigma \\in S_1 \\textrm{ and } \\sigma \\in S_2) \\right) = 1 - \\prod_{\\sigma \\in \\Sigma} \\left(1 - p_\\sigma^2 \\right)\n",
    "$$\n",
    "\n",
    "Now for the denomenator...\n",
    "\n",
    "$$\n",
    "P( S_1 \\neq \\emptyset, S_2 \\neq \\emptyset) = P( S_1 \\neq \\emptyset)^2 = \\left(1 - \\prod_{\\sigma \\in \\Sigma} (1 - p_\\sigma) \\right)^2\n",
    "$$\n",
    "\n",
    "Putting this together we arrive at..\n",
    "\n",
    "$$\n",
    "c_2 = \\frac{1 - \\prod_{\\sigma \\in \\Sigma} \\left(1 - p_\\sigma^2 \\right)}{\\left(1 - \\prod_{\\sigma \\in \\Sigma} (1 - p_\\sigma) \\right)^2}\n",
    "$$\n",
    "\n",
    "To test this we can do simulations and compare to this theoretical answer..."
   ]
  },
  {
   "cell_type": "code",
   "execution_count": 13,
   "metadata": {
    "collapsed": true
   },
   "outputs": [],
   "source": [
    "def get_relative_error(trials, max_alph_size):\n",
    "    random_probs = arbitrary_probs_util.get_random_probs(max_alph_size=max_alph_size)\n",
    "    theor = calcs.theoretical_c2(random_probs)\n",
    "    sim = calcs.sim_c2(random_probs, trials)\n",
    "    return (len(random_probs), (sim - theor) / theor)\n",
    "\n",
    "def scatter_plot(num_points, trials, max_alph_size):\n",
    "    data = [get_relative_error(trials, max_alph_size) for _ in xrange(num_points)]\n",
    "    xs = [pt[0] for pt in data]\n",
    "    ys = [pt[1] for pt in data]\n",
    "    plt.scatter(xs, ys, alpha=0.5)\n",
    "    plt.axhline(0, color='k')\n",
    "    plt.ylabel('Relative Error')\n",
    "    plt.xlabel('Alphabet Size')\n",
    "    plt.title('Relative Errors')\n",
    "    plt.show()"
   ]
  },
  {
   "cell_type": "code",
   "execution_count": 15,
   "metadata": {},
   "outputs": [
    {
     "data": {
      "image/png": "[encoded data removed]",
      "text/plain": [
       "<matplotlib.figure.Figure at 0x7fa0161d5710>"
      ]
     },
     "metadata": {},
     "output_type": "display_data"
    }
   ],
   "source": [
    "# Constants\n",
    "NUM_POINTS = 100 # The number of random letter probabilities to test.\n",
    "TRIALS = 10000 # The number of trials to perform for each list of probabilities.\n",
    "MAX_ALPH_SIZE = 10 # The maximum possible alphabet size to test.\n",
    "\n",
    "scatter_plot(NUM_POINTS, TRIALS, MAX_ALPH_SIZE)"
   ]
  },
  {
   "cell_type": "markdown",
   "metadata": {},
   "source": [
    "The low relative errors suggest that this is the correct theoretical probability."
   ]
  },
  {
   "cell_type": "markdown",
   "metadata": {},
   "source": [
    "## Finding a New $c_{1, 2}$\n",
    "\n",
    "Consider three sets $\\mathcal{P}$, $S_1$, and $S_2$ randomly formed according to the probabilities in $p$. Then we wish to find $c_{1, 2}$ which is...\n",
    "\n",
    "$$\n",
    "c_{1, 2} = P(\\mathcal{P} == S_1, \\mathcal{P} == S_2 | \\mathcal{P} \\neq \\emptyset, S_1 \\neq \\emptyset, S_2 \\neq \\emptyset)\n",
    "$$\n",
    "\n",
    "Again, I rely on the fact that this probability is conditionally independent and use total law of probability.\n",
    "\n",
    "$$\n",
    "= \\sum_{\\mathcal{P}} P(\\mathcal{P}  | \\mathcal{P} \\neq \\emptyset) P(\\mathcal{P} == S_1 | \\mathcal{P}, S_1 \\neq \\emptyset) P(\\mathcal{P} == S_2 | \\mathcal{P}, S_2 \\neq \\emptyset)\n",
    "$$\n",
    "\n",
    "$$\n",
    "= \\sum_{\\mathcal{P}} P(\\mathcal{P}  | \\mathcal{P} \\neq \\emptyset) P(\\mathcal{P} == S_1 | \\mathcal{P}, S_1 \\neq \\emptyset)^2\n",
    "$$\n",
    "\n",
    "To proceed I find the two required probabilities to compute each term in the sum...\n",
    "\n",
    "$$\n",
    "P(\\mathcal{P}) = P\\left(\\mathcal{P}| \\mathcal{P} \\neq \\emptyset \\right) P\\left(\\mathcal{P} \\neq \\emptyset \\right) + P\\left(\\mathcal{P}| \\mathcal{P} = \\emptyset \\right) P\\left(\\mathcal{P} = \\emptyset \\right)\n",
    "$$\n",
    "\n",
    "$$\n",
    "\\implies P(\\mathcal{P}  | \\mathcal{P} \\neq \\emptyset) = \\frac{P(\\mathcal{P}) - P\\left(\\mathcal{P}| \\mathcal{P} = \\emptyset \\right) P\\left(\\mathcal{P} = \\emptyset \\right)}{P\\left(\\mathcal{P} \\neq \\emptyset \\right)} \n",
    "$$\n",
    "\n",
    "Note that the second part of the above expression is undefined when $\\mathcal{P} = \\emptyset$ and zero otherwise. For this reason it is dropped and we get...\n",
    "\n",
    "$$\n",
    "P(\\mathcal{P}  | \\mathcal{P} \\neq \\emptyset) = \\frac{P(\\mathcal{P})}{P\\left(\\mathcal{P} \\neq \\emptyset \\right)} = \\frac{\\left(\\prod_{\\sigma \\in \\mathcal{P}} p_\\sigma \\right)\\left(\\prod_{\\sigma \\in \\mathcal{P}^C} (1 - p_\\sigma) \\right)}{1 - \\prod_{\\sigma \\in \\Sigma} (1 - p_\\sigma)}\n",
    "$$\n",
    "\n",
    "As for the other term in the summation we get...\n",
    "\n",
    "$$\n",
    "P(\\mathcal{P} == S_1 | \\mathcal{P}) = P(\\mathcal{P} == S_1 | \\mathcal{P}, S_1 \\neq \\emptyset) P(S_1 \\neq \\emptyset) + P(\\mathcal{P} == S_1 | \\mathcal{P}, S_1 = \\emptyset) P(S_1 = \\emptyset)\n",
    "$$\n",
    "\n",
    "Again, we cannot have a match if $S_1$ is the empty set so the second term in the sume drops and we can simplify to...\n",
    "\n",
    "$$\n",
    "P(\\mathcal{P} == S_1 | \\mathcal{P}, S_1 \\neq \\emptyset) = \\frac{P(\\mathcal{P} == S_1 | \\mathcal{P})}{P(S_1 \\neq \\emptyset)} = \\frac{1 - P(\\mathcal{P} != S_1 | \\mathcal{P})}{1 - P(S_1 = \\emptyset)}\n",
    "$$\n",
    "\n",
    "$$\n",
    "= \\frac{1 - \\prod_{\\sigma \\in \\mathcal{P}} (1 - p_\\sigma)}{1 - \\prod_{\\sigma \\in \\Sigma} (1 - p_\\sigma)}\n",
    "$$\n",
    "\n",
    "Combining these two things we get that\n",
    "\n",
    "$$\n",
    "c_{1, 2} = \\sum_{\\mathcal{P}} \\frac{\\left(\\prod_{\\sigma \\in \\mathcal{P}} p_\\sigma \\right)\\left(\\prod_{\\sigma \\in \\mathcal{P}^C} (1 - p_\\sigma) \\right) \\left(1 - \\prod_{\\sigma \\in \\mathcal{P}} (1 - p_\\sigma)\\right)}{\\left(1 - \\prod_{\\sigma \\in \\Sigma} (1 - p_\\sigma)\\right)^2}\n",
    "$$"
   ]
  },
  {
   "cell_type": "code",
   "execution_count": 17,
   "metadata": {
    "collapsed": true
   },
   "outputs": [],
   "source": [
    "def get_relative_error(trials, max_alph_size):\n",
    "    random_probs = arbitrary_probs_util.get_random_probs(max_alph_size=max_alph_size)\n",
    "    theor = calcs.theoretical_c12(random_probs)\n",
    "    sim = calcs.sim_c12(random_probs, trials)\n",
    "    return (len(random_probs), (sim - theor) / theor)\n",
    "\n",
    "def scatter_plot(num_points, trials, max_alph_size):\n",
    "    data = [get_relative_error(trials, max_alph_size) for _ in xrange(num_points)]\n",
    "    xs = [pt[0] for pt in data]\n",
    "    ys = [pt[1] for pt in data]\n",
    "    plt.scatter(xs, ys, alpha=0.5)\n",
    "    plt.axhline(0, color='k')\n",
    "    plt.ylabel('Relative Error')\n",
    "    plt.xlabel('Alphabet Size')\n",
    "    plt.title('Relative Errors')\n",
    "    plt.show()"
   ]
  },
  {
   "cell_type": "code",
   "execution_count": 20,
   "metadata": {},
   "outputs": [
    {
     "data": {
      "image/png": "[encoded data removed]",
      "text/plain": [
       "<matplotlib.figure.Figure at 0x7fa0161b78d0>"
      ]
     },
     "metadata": {},
     "output_type": "display_data"
    }
   ],
   "source": [
    "# Constants\n",
    "NUM_POINTS = 100 # The number of random letter probabilities to test.\n",
    "TRIALS = 10000 # The number of trials to perform for each list of probabilities.\n",
    "MAX_ALPH_SIZE = 5 # The maximum possible alphabet size to test.\n",
    "\n",
    "scatter_plot(NUM_POINTS, TRIALS, MAX_ALPH_SIZE)"
   ]
  },
  {
   "cell_type": "markdown",
   "metadata": {},
   "source": [
    "Based on the low relative error, it seems that this is the right probability."
   ]
  },
  {
   "cell_type": "markdown",
   "metadata": {},
   "source": [
    "## Comparing $c_2^2$ and $c_{1, 2}$\n",
    "\n",
    "In the previous proof a key feature was that $c_2^2 \\leq c_{1, 2}$. Therefore, I looked over several different vectors of $p$ to see if this inequality helf for all of them."
   ]
  },
  {
   "cell_type": "code",
   "execution_count": 4,
   "metadata": {
    "collapsed": true
   },
   "outputs": [],
   "source": [
    "def does_ineq_hold(trials, max_alph_size):\n",
    "    num_violating = 0\n",
    "    for _ in xrange(trials):\n",
    "        random_probs = arbitrary_probs_util.get_random_probs(max_alph_size=max_alph_size)\n",
    "        diff = calcs.theoretical_c2(random_probs) ** 2 - calcs.theoretical_c12(random_probs)\n",
    "        if calcs.theoretical_c2(random_probs) ** 2 > calcs.theoretical_c12(random_probs):\n",
    "#             print 'FALSE FOR PROBS:', random_probs, diff\n",
    "            num_violating += 1\n",
    "    print 'All done with %d violating inequality.' % num_violating\n"
   ]
  },
  {
   "cell_type": "code",
   "execution_count": 6,
   "metadata": {},
   "outputs": [
    {
     "name": "stdout",
     "output_type": "stream",
     "text": [
      "All done with 651 violating inequality.\n"
     ]
    }
   ],
   "source": [
    "TRIALS = 10000\n",
    "MAX_ALPH_SIZE = 4\n",
    "\n",
    "does_ineq_hold(TRIALS, MAX_ALPH_SIZE)"
   ]
  },
  {
   "cell_type": "markdown",
   "metadata": {},
   "source": [
    "It seems that the inequality might be true here too. Note that violations were found above for differences of around 10^-16 but this seems more like machine error noise than a substantial difference. However, perhaps other checks should be performed before I try to prove the inequality."
   ]
  }
 ],
 "metadata": {
  "kernelspec": {
   "display_name": "Python 2",
   "language": "python",
   "name": "python2"
  },
  "language_info": {
   "codemirror_mode": {
    "name": "ipython",
    "version": 2
   },
   "file_extension": ".py",
   "mimetype": "text/x-python",
   "name": "python",
   "nbconvert_exporter": "python",
   "pygments_lexer": "ipython2",
   "version": "2.7.12"
  }
 },
 "nbformat": 4,
 "nbformat_minor": 2
}
