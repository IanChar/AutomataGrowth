{
 "cells": [
  {
   "cell_type": "markdown",
   "metadata": {},
   "source": [
    "For week of May 29, 2017"
   ]
  },
  {
   "cell_type": "code",
   "execution_count": 2,
   "metadata": {
    "collapsed": true
   },
   "outputs": [],
   "source": [
    "# RUN THIS FIRST\n",
    "\n",
    "%matplotlib inline\n",
    "\n",
    "from __future__ import division\n",
    "from matplotlib import pyplot as plt\n",
    "import numpy as np\n",
    "\n",
    "import sys\n",
    "sys.path.append('..')\n",
    "import util"
   ]
  },
  {
   "cell_type": "markdown",
   "metadata": {},
   "source": [
    "# Objectives"
   ]
  },
  {
   "cell_type": "markdown",
   "metadata": {},
   "source": [
    "Use first and second moment methods to find the \"threshold\" size in which it will be asymptotically certain that there will or will not be a repeated substring in the generalized string. Here I try to take many of the same approaches taken in \"Unambiguous Threading of Random Text from Overlapping Substrings\"."
   ]
  },
  {
   "cell_type": "markdown",
   "metadata": {},
   "source": [
    "## First Moment Method"
   ]
  },
  {
   "cell_type": "markdown",
   "metadata": {},
   "source": [
    "#### Overview\n",
    "For this, I take an analogous approach the paper on finding the longest k-mer. To start let\n",
    "\n",
    "$$\n",
    "Y_k = \\sum_{i} ind(G[1:k] \\cap G[i:k] \\neq \\emptyset)\n",
    "$$\n",
    "\n",
    "Here $ind$ represents the indicator function (can't figure out how to import LaTeX packages on here yet), $i \\in k \\mathcal{R}$, and $i > 1$ (i.e. check non-overlapping chunks of $G$ with first prefix chunk). Furthermore, $G[1:k] \\cap G[i:k] \\neq \\emptyset$ is simply shorthand for $G[1 + r] \\cap G[i + r] \\neq \\emptyset$ $\\forall r \\in \\{0, 1, \\ldots, k - 1\\}$.\n",
    "\n",
    "Using the first moment method one notes that...\n",
    "\n",
    "$$\n",
    "P(\\textrm{Exists a k-length substring matching with prefix}) \\ge P(Y_k \\ge 0) \\ge \\frac{E[Y_k]^2}{E[Y_k^2]}\n",
    "$$\n",
    "\n",
    "#### Calculating Lower Bound\n",
    "\n",
    "* First we find $E[Y_k]$. Note that this is simply the probability that a fixed generalized substring matches with the prefix. To match notation in the k-mer paper, let $c_2$ be the probability that any two non-empty subsets of the alphabet selected uniformly at random have at least one element in common (this probability will be given later). Where $n$ is the length of $G$...\n",
    "\n",
    "$$\n",
    "E[Y_k] = \\left( \\lfloor \\frac{n}{k} \\rfloor - 1\\right) c_2^k\n",
    "$$\n",
    "\n",
    "Since there are $\\lfloor \\frac{n}{k} \\rfloor - 1$ possible values that $i$ can take.\n",
    "\n",
    "* Looking at $E[Y_k^2]$ note that...\n",
    "\n",
    "$$\n",
    "Y_k^2 = \\sum_{i, j} ind(G[1:k] \\cap G[i:k] \\neq \\emptyset) ind(G[1:k] \\cap G[j:k] \\neq \\emptyset)\n",
    "$$\n",
    "\n",
    "$$\n",
    "= \\sum_{i = j} ind(G[1:k] \\cap G[i:k] \\neq \\emptyset) + \\sum_{i \\neq j} ind(G[1:k] \\cap G[i:k] \\neq \\emptyset) ind(G[1:k] \\cap G[j:k] \\neq \\emptyset)\n",
    "$$\n",
    "\n",
    "Let $c_{1, 2}$ be the probability that two non-empty subsets of the alphabet, each chosen uniformly at random, both share an element with a third non-empty subset of the alphabet chosen uniformly at random (e.g. $G[1] \\cap G[i] \\neq \\emptyset$ and $G[1] \\cap G[j] \\neq \\emptyset$). Then one sees that...\n",
    "\n",
    "$$\n",
    "E[Y_k^2] = \\left( \\lfloor \\frac{n}{k} \\rfloor - 1\\right) c_2^k + \\left( \\lfloor \\frac{n}{k} \\rfloor - 1 \\right) \\left( \\lfloor \\frac{n}{k} \\rfloor - 2 \\right) c_{1, 2}^k\n",
    "$$\n",
    "\n",
    "In the hopes that the lower bound goes to 1, the following is observed...\n",
    "\n",
    "$$\n",
    "\\frac{E[Y_k^2]}{E[Y_k]^2} = \\frac{1}{\\left( \\lfloor \\frac{n}{k} \\rfloor - 1\\right) c_2^k} + \\frac{\\left( \\lfloor \\frac{n}{k} \\rfloor - 2 \\right) c_{1, 2}^k}{\\left( \\lfloor \\frac{n}{k} \\rfloor - 1\\right) c_2^{2k}}\n",
    "$$\n",
    "\n",
    "#### Values of $c_2$ and $c_{1,2}$\n",
    "\n",
    "Previous notebooks show the derivation for the probabilities of $c_2$ (see SubstringProbabilityModel_April162017) and $c_{1, 2}$ (see BonferroniEstimate_April292017 and May6_2017_IntersectionEstimates). These probabilities are restated below. Here $a$ is the size of the alphabet.\n",
    "\n",
    "$$\n",
    "c_2 = \\frac{4^a - 3^a}{\\left(2^a - 1\\right)^2}\n",
    "$$\n",
    "\n",
    "$$\n",
    "c_{1,2} = \\frac{1}{2^a - 1} \\sum_{j = 1}^{a} {{a}\\choose{j}} \\left(1 - \\frac{2^{a - j} - 1}{2^a - 1}\\right)^2\n",
    "$$\n",
    "\n",
    "In order to make the two quantities more comparable we note that we can reduce $c_{1, 2}$...\n",
    "\n",
    "$$\n",
    "c_{1, 2} = \\left(\\frac{1}{2^a - 1}\\right)^3 \\sum_{j = 1}^{a} {{a}\\choose{j}} \\left(2^a - 1 - 2^{a - j} + 1\\right)^2 \n",
    "= \\left(\\frac{1}{2^a - 1}\\right)^3 4^a \\sum_{j = 1}^{a} {{a}\\choose{j}} \\left(1 - \\frac{1}{2^j}\\right)^2\n",
    "$$\n",
    "\n",
    "$$\n",
    "= \\left(\\frac{1}{2^a - 1}\\right)^3 4^a \\left[\\sum_{j = 1}^{a} {{a}\\choose{j}} - 2 \\sum_{j = 1}^{a} {{a}\\choose{j}} \\frac{1}{2^j} + \\sum_{j = 1}^{a} {{a}\\choose{j}} \\frac{1}{4^a} \\right]\n",
    "$$\n",
    "\n",
    "Using the Binomial formula...\n",
    "\n",
    "$$\n",
    "= \\left(\\frac{1}{2^a - 1}\\right)^3 4^a \\left[2^a - 1 - 2 \\left(\\frac{3}{2}\\right)^a + 2 + \\left(\\frac{5}{4}\\right)^a - 1 \\right]\n",
    "$$\n",
    "\n",
    "$$\n",
    "= \\left(\\frac{1}{2^a - 1}\\right)^3 \\left(8^a - (2) 6^a + 5^a \\right)\n",
    "$$\n",
    "\n",
    "As a quick check to see that these are the same, the values are calculated for each expression as shown below."
   ]
  },
  {
   "cell_type": "code",
   "execution_count": 12,
   "metadata": {
    "collapsed": true
   },
   "outputs": [],
   "source": [
    "def c_12_one(a):\n",
    "    \"\"\"Calculates the value of c_1,2 given the original expression.\"\"\"\n",
    "    total = 0\n",
    "    for j in range(1, a + 1):\n",
    "        total += util.ncr(a, j) * (1 - (2 ** (a - j) - 1) / (2 ** a - 1)) ** 2\n",
    "    return total / (2 ** a - 1)\n",
    "\n",
    "def c_12_two(a):\n",
    "    \"\"\"Calculates the value of c_1,2 given the simplified expression found above.\"\"\"\n",
    "    to_return = 1 / ((2 ** a - 1) ** 3)\n",
    "    return to_return * (8 ** a - 2 * 6 ** a + 5 ** a)\n",
    "\n",
    "def are_the_same(a_range):\n",
    "    \"\"\"Check to see if the expressions are the same on the range of alphabet sizes.\"\"\"\n",
    "    for a in a_range:\n",
    "        if abs(c_12_one(a) - c_12_two(a)) > 1e-6:\n",
    "            print 'Not the same values!'\n",
    "            return False\n",
    "    print 'Same values on given range!'\n",
    "    return True"
   ]
  },
  {
   "cell_type": "code",
   "execution_count": 8,
   "metadata": {},
   "outputs": [
    {
     "name": "stdout",
     "output_type": "stream",
     "text": [
      "Same values on given range!\n"
     ]
    },
    {
     "data": {
      "text/plain": [
       "True"
      ]
     },
     "execution_count": 8,
     "metadata": {},
     "output_type": "execute_result"
    }
   ],
   "source": [
    "#Range of values to test on.\n",
    "ALPH_RANGE = range(1, 101)\n",
    "\n",
    "are_the_same(ALPH_RANGE)"
   ]
  },
  {
   "cell_type": "markdown",
   "metadata": {},
   "source": [
    "#### Comparison of $c_2^2$ and $c_{1,2}$\n",
    "\n",
    "From the lower bound, the relationship between $c_2^2$ and $c_{1,2}$ seems to be important. Like found in the k-mer paper, it seems that $c_2^2 \\leq c_{1,2}$ from the simulations shown below."
   ]
  },
  {
   "cell_type": "code",
   "execution_count": 13,
   "metadata": {
    "collapsed": true
   },
   "outputs": [],
   "source": [
    "def c_2_squared(a):\n",
    "    \"\"\"Value for c_2^2.\"\"\"\n",
    "    to_return = 4 ** a - 3 ** a\n",
    "    to_return /= ((2 ** a - 1) ** 2)\n",
    "    return to_return ** 2\n",
    "\n",
    "def c_12(a):\n",
    "    \"\"\"Value for c_12\"\"\"\n",
    "    to_return = 1 / ((2 ** a - 1) ** 3)\n",
    "    return to_return * (8 ** a - 2 * 6 ** a + 5 ** a)\n",
    "\n",
    "def is_less_or_equal(a_range):\n",
    "    \"\"\"Compare to see if the supposed inequality holds on the range of alphabet sizes.\"\"\"\n",
    "    for a in a_range:\n",
    "        if c_2_squared > c_12:\n",
    "            print 'Greater than for a = ', a\n",
    "            return False\n",
    "    print 'Inequality holds!'\n",
    "    return True       "
   ]
  },
  {
   "cell_type": "code",
   "execution_count": 14,
   "metadata": {},
   "outputs": [
    {
     "data": {
      "image/png": "[encoded data removed]",
      "text/plain": [
       "<matplotlib.figure.Figure at 0x7f1d7e69e850>"
      ]
     },
     "metadata": {},
     "output_type": "display_data"
    },
    {
     "name": "stdout",
     "output_type": "stream",
     "text": [
      "Inequality holds!\n"
     ]
    },
    {
     "data": {
      "text/plain": [
       "True"
      ]
     },
     "execution_count": 14,
     "metadata": {},
     "output_type": "execute_result"
    }
   ],
   "source": [
    "# Alphabet sizes that should be displayed in the plot.\n",
    "PLOT_RANGE = range(1, 20)\n",
    "# Alphabet sizes to check to see if the inequality holds.\n",
    "INEQ_RANGE = range(1, 101)\n",
    "\n",
    "util.plot_comparison(ALPH_SIZES, c_2_squared, c_12, 'c_2^2', 'c_1,2', 'lower right')\n",
    "is_less_or_equal(INEQ_RANGE)"
   ]
  },
  {
   "cell_type": "markdown",
   "metadata": {},
   "source": [
    "I attempted to prove this inequality but wasn't able to successfuly prove it. The attempt that I think got the closest is as follows...\n",
    "\n",
    "Just need to prove that $\\frac{(4^a - 3^a)^2}{2^a - 1} \\leq 8^a - (2) 6^a + 5^a$. Multiplying each side by $2^a - 1$, one sees that...\n",
    "\n",
    "$$\n",
    "LHS = (4^a - 3 ^a)^2 = 16^a - (2) 12^a + 9^a\n",
    "$$\n",
    "\n",
    "$$\n",
    "RHS = (2^a - 1) (8^a - (2) 6^a + 5^a) = 16^a - (2) 12^a + 10^a - (8^a - (2) 6^a + 5^a)\n",
    "$$\n",
    "\n",
    "Subtracting $16^a - (2) 12^a$ from each side we end up with wanting to prove that,\n",
    "\n",
    "$$\n",
    "9^a \\leq 10^a - 8^a + (2) 6^a - 5^a\n",
    "$$\n",
    "\n",
    "From here I am not sure what to do. This seems like it should be easy to prove but I cannot think of what to do right now. Other things I attempted:\n",
    "* Log transformations, but it is difficult since they are all summed together.\n",
    "* Making approximations that would upper bound lower LHS and lower bound RHS (e.g. say $2^a -1$ is just $2^a$)\n",
    "* Proof by induction"
   ]
  },
  {
   "cell_type": "markdown",
   "metadata": {},
   "source": [
    "#### Asymptotic Behavior\n",
    "Assuming that the above inequality is true (pretty certain it is), what can one say about \n",
    "\n",
    "$$\n",
    "\\frac{E[Y_k^2]}{E[Y_k]^2} = \\frac{1}{\\left( \\lfloor \\frac{n}{k} \\rfloor - 1\\right) c_2^k} + \\frac{\\left( \\lfloor \\frac{n}{k} \\rfloor - 2 \\right)}{\\left( \\lfloor \\frac{n}{k} \\rfloor - 1\\right)} \\hat{c}^k\n",
    "$$\n",
    "\n",
    "where $\\hat{c} = \\frac{c_{1,2}}{c_2^2} \\geq 1$?\n",
    "\n",
    "I think that the first term in the sume can be shown to be on the order of $o(1)$ when $k$ is on the order of $log_{1/c_2}(n)$ much like in the k-mer paper. However, I think that the second term will always go to infinity if $\\hat{c} > 1$. That's because \n",
    "\n",
    "$$\n",
    "\\frac{\\left( \\lfloor \\frac{n}{k} \\rfloor - 2 \\right)}{\\left( \\lfloor \\frac{n}{k} \\rfloor - 1\\right)} = 1 - o(1)\n",
    "$$\n",
    "\n",
    "but $\\hat{c}^k \\rightarrow \\infty$ as $k \\rightarrow \\infty$. The result of this is that the lower bound will tend towards zero, and ultimately give us no information. To use the first moment method with this particular problem another approach will probably have to be taken."
   ]
  },
  {
   "cell_type": "markdown",
   "metadata": {},
   "source": [
    "### Checking Existance of Threshold Value Through Simulation\n",
    "\n",
    "Before more time is devoted to this, I assumed that there would be some threshold of $k$ where the probability would dramatically change from some of the plots I have produced in the past. It would be nice to try to confirm that this does look to be the case with more simulations."
   ]
  }
 ],
 "metadata": {
  "kernelspec": {
   "display_name": "Python 2",
   "language": "python",
   "name": "python2"
  },
  "language_info": {
   "codemirror_mode": {
    "name": "ipython",
    "version": 2
   },
   "file_extension": ".py",
   "mimetype": "text/x-python",
   "name": "python",
   "nbconvert_exporter": "python",
   "pygments_lexer": "ipython2",
   "version": "2.7.12"
  }
 },
 "nbformat": 4,
 "nbformat_minor": 2
}
