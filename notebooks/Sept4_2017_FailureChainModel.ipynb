{
 "cells": [
  {
   "cell_type": "code",
   "execution_count": 1,
   "metadata": {},
   "outputs": [],
   "source": [
    "# Run this first!!!\n",
    "from IPython.display import display, HTML\n",
    "\n",
    "from __future__ import division\n",
    "import matplotlib.pyplot as plt\n",
    "\n",
    "import sys\n",
    "sys.path.append('..')\n",
    "import util\n",
    "sys.path.append('../aho_merging')\n",
    "from failure_chain_mc import FailureChain\n",
    "sys.path.append('../common')\n",
    "from sampling_misc import sample_stat_failure_chain_dist"
   ]
  },
  {
   "cell_type": "markdown",
   "metadata": {},
   "source": [
    "## Fixing the Markov Chain"
   ]
  },
  {
   "cell_type": "markdown",
   "metadata": {},
   "source": [
    "## Does there seem to be a Stationary Distribution?\n",
    "\n",
    "To check whether there is a stationary distribution. I will look at the distribution after the chain has ran for a long time and collect data. I will do this two times (but vary how long we let the chain run for) and see if the two supposed stationary distributions are the same (we know if one exists it must be unique)."
   ]
  },
  {
   "cell_type": "code",
   "execution_count": 18,
   "metadata": {
    "collapsed": true
   },
   "outputs": [],
   "source": [
    "def compare_stat_dists(depth1, depth2, num_samples, probs):\n",
    "    fc = FailureChain(probs)\n",
    "    stat1 = fc.get_stationary_dist(depth1, num_samples)\n",
    "    print 'Distribution after %d runs:\\t' % depth1,\n",
    "    print stat1\n",
    "    stat2 = fc.get_stationary_dist(depth2, num_samples)\n",
    "    print 'Distribution after %d runs:\\t' % depth2,\n",
    "    print stat2\n",
    "    print 'Relative Difference From 1st:\\t'\n",
    "    print [(stat1[i] - stat2[i])/stat1[i] \n",
    "           if i < len(stat1) and i < len(stat2) else float('inf')\n",
    "           for i in range(max(len(stat1), len(stat2)))]"
   ]
  },
  {
   "cell_type": "code",
   "execution_count": 19,
   "metadata": {},
   "outputs": [
    {
     "name": "stdout",
     "output_type": "stream",
     "text": [
      "Distribution after 100 runs:\t[0.1876, 0.3856, 0.2996, 0.1032, 0.0213, 0.0025, 0.0002]\n",
      "Distribution after 200 runs:\t[0.1809, 0.3932, 0.2976, 0.1058, 0.0194, 0.0028, 0.0001, 0.0002]\n",
      "Relative Difference From 1st:\t\n",
      "[0.03571428571428563, -0.01970954356846472, 0.006675567423230981, -0.02519379844961245, 0.08920187793427226, -0.11999999999999997, 0.5, inf]\n"
     ]
    }
   ],
   "source": [
    "DEPTH1 = 100\n",
    "DEPTH2 = 200\n",
    "NUM_SAMPLES = 10000\n",
    "PROBS = [0.25, 0.5, 0.75, 0.3]\n",
    "\n",
    "compare_stat_dists(DEPTH1, DEPTH2, NUM_SAMPLES, PROBS)"
   ]
  },
  {
   "cell_type": "markdown",
   "metadata": {},
   "source": [
    "Looks pretty close to me! I am thinking that there is one. We basically have a finite state space here because it is really unlikely that we keep going. The one case where this is not true is if we have a letter that will always appear in a set. In this case there will be no stationary distribution since we go off to infinity."
   ]
  },
  {
   "cell_type": "markdown",
   "metadata": {},
   "source": [
    "## Comparing Model against Truth"
   ]
  },
  {
   "cell_type": "code",
   "execution_count": 4,
   "metadata": {},
   "outputs": [],
   "source": [
    "def compare_stat_dists_against_real(num_samples, probs, depth):\n",
    "    fc = FailureChain(probs)\n",
    "    theoretical = fc.get_stationary_dist(depth, num_samples)\n",
    "    print 'Theoretical: \\t', theoretical\n",
    "    sampled = sample_stat_failure_chain_dist(num_samples, probs, depth)\n",
    "    print 'Sampled: \\t', sampled\n",
    "    s_len, t_len = len(sampled), len(theoretical)\n",
    "    print 'Relative Difference: '\n",
    "    print [(sampled[i] - theoretical[i]) / theoretical[i] \n",
    "           if i < s_len and i < t_len else float('inf')\n",
    "           for i in range(max(s_len, t_len))]"
   ]
  },
  {
   "cell_type": "code",
   "execution_count": 11,
   "metadata": {},
   "outputs": [
    {
     "name": "stdout",
     "output_type": "stream",
     "text": [
      "Theoretical: \t[0.195, 0.364, 0.321, 0.103, 0.014, 0.003]\n",
      "Sampled: \t[0.262, 0.319, 0.21, 0.096, 0.064, 0.033, 0.007, 0.006, 0.002, 0.0, 0.001]\n",
      "Relative Difference: \n",
      "[0.3435897435897436, -0.12362637362637359, -0.3457943925233645, -0.06796116504854362, 3.5714285714285716, 10.0, inf, inf, inf, inf, inf]\n"
     ]
    }
   ],
   "source": [
    "NUM_SAMPLES = 1000\n",
    "PROBS = [0.25, 0.5, 0.75, 0.3]\n",
    "DEPTH = 50\n",
    "\n",
    "compare_stat_dists_against_real(NUM_SAMPLES, PROBS, DEPTH)"
   ]
  }
 ],
 "metadata": {
  "kernelspec": {
   "display_name": "Python 2",
   "language": "python",
   "name": "python2"
  },
  "language_info": {
   "codemirror_mode": {
    "name": "ipython",
    "version": 2
   },
   "file_extension": ".py",
   "mimetype": "text/x-python",
   "name": "python",
   "nbconvert_exporter": "python",
   "pygments_lexer": "ipython2",
   "version": "2.7.12"
  }
 },
 "nbformat": 4,
 "nbformat_minor": 2
}
