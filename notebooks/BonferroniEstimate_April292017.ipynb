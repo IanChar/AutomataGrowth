{
 "metadata": {
  "name": ""
 },
 "nbformat": 3,
 "nbformat_minor": 0,
 "worksheets": [
  {
   "cells": [
    {
     "cell_type": "code",
     "collapsed": false,
     "input": [
      "# RUN THIS FIRST\n",
      "\n",
      "%matplotlib inline\n",
      "\n",
      "from __future__ import division\n",
      "from matplotlib import pyplot as plt\n",
      "import operator as op\n",
      "\n",
      "\n",
      "import sys\n",
      "sys.path.append('../aho_merging')\n",
      "import aho_test\n",
      "import bonferroni"
     ],
     "language": "python",
     "metadata": {},
     "outputs": [],
     "prompt_number": 1
    },
    {
     "cell_type": "heading",
     "level": 2,
     "metadata": {},
     "source": [
      "Estimating Bonferroni with Total Law of Probability (Continued from SubstringProbabilityModel)"
     ]
    },
    {
     "cell_type": "markdown",
     "metadata": {},
     "source": [
      "Instead of relying on the assumption of independence between the $A_i$s to compute $P(\\cap A_i)$ we can instead try to use law of total probability and the fact that $A_i$ should be conditionally independent knowing what the prefix sets in $G$ are. Why should they be conditionally independent? Still assuming that none of the substrings overlap, then independent sets are being compared to known quantities and thus should be independent.\n",
      "\n",
      "To get started, let $\\mathcal{A} \\in \\beta_c$ (i.e. $\\mathcal{A}$ is a set with $c$ of the $A_i$s) and let $\\mathcal{G}$ be the set of all possible prefixes for $G$.\n",
      "\n",
      "$$\n",
      "P(\\cap_{A_i \\in \\mathcal{A}} A_i) = \\sum_{G[:k] \\in \\mathcal{G}} P(\\cap_{A_i \\in \\mathcal{A}} A_i | G[:k]) P(G[:k])\n",
      "$$\n",
      "\n",
      "Using the claim that these are conditionally independent,\n",
      "\n",
      "$$\n",
      "= \\sum_{G[:k] \\in \\mathcal{G}} \\prod_{A_i \\in \\mathcal{A}} P(A_i | G[:k]) P(G[:k])\n",
      "$$\n",
      "\n",
      "Since we are assuming that all prefixes are equally likely, we can pull out $P(G[:k])$ into the front of the sum. Furthermore, because we assume that substrings don't overlap we can break up this expression further.\n",
      "\n",
      "$$\n",
      "= P(G[:k])^k \\sum_{G[:k] \\in \\mathcal{G}} \\prod_{A_i \\in \\mathcal{A}} \\prod_{j = 0}^{k - 1} P(M_{1 + j, i + j} | G[1 + j])\n",
      "$$\n",
      "\n",
      "What is $P(M_{1 + j, i + j} | G[1 + j])$? This is equivalent to there being at least one common letter in some given $G[1+j]$ with $G[i + j]$. Thus,\n",
      "\n",
      "$$\n",
      "P(M_{1 + j, i + j} | G[1 + j]) = 1 - P(M_{1 + j, i + j}^C | G[1 + j]) = 1 - P(G[i + j] \\subseteq G[1+j]^C | G[1 + j])\n",
      "$$\n",
      "\n",
      "By independence,\n",
      "\n",
      "$$\n",
      "1 - \\frac{2^{a - |G[i + j]|} - 1}{2^a - 1}\n",
      "$$\n",
      "\n",
      "NWith this we then have...\n",
      "\n",
      "$$\n",
      "P(\\cap_{A_i \\in \\mathcal{A}} A_i) = P(G[:k])^k \\sum_{G[:k] \\in \\mathcal{G}} \\prod_{A_i \\in \\mathcal{A}} \\prod_{j = 0}^{k - 1} \\left(1 - \\frac{2^{a - |G[i + j]|} - 1}{2^a - 1}\\right) = P(G[:k])^k \\sum_{G[:k] \\in \\mathcal{G}} \\prod_{j = 0}^{k - 1} \\left(1 - \\frac{2^{a - |G[i + j]|} - 1}{2^a - 1}\\right)^c\n",
      "$$\n",
      "\n",
      "Instead of iterating over all of the different prefixes, let's instead iterate over all of the different prefix sizes. In particular, let $t_j$ be the size of the $j^{th}$ index of the prefix, with $t = (t_1, t_2, \\ldots, t_k)$ and $\\mathcal{T}$ being the set of all possible $t$s. Note that any one of these $t$s could represent $\\prod_{j = 1}^{k} {{a}\\choose{t_j}}$ different prefixes, all with the same value in the summation. Therefore...\n",
      "\n",
      "$$\n",
      "= P(G[:k])^k \\sum_{t \\in \\mathcal{t}} \\left[\\prod_{j = 1}^{k} \\left(1 - \\frac{2^{a - t_j} - 1}{2^a - 1}\\right)^c \\prod_{j = 1}^{k} {{a}\\choose{t_j}}\\right] = P(G[:k])^k \\sum_{t \\in \\mathcal{t}} \\prod_{j = 1}^{k} \\left(1 - \\frac{2^{a - t_j} - 1}{2^a - 1}\\right)^c {{a}\\choose{t_j}}\n",
      "$$\n",
      "\n",
      "For simplicity, define $\\lambda(t_j) := \\left(1 - \\frac{2^{a - t_j} - 1}{2^a - 1}\\right)^c {{a}\\choose{t_j}}$. So that,\n",
      "\n",
      "$$\n",
      "= P(G[:k])^k \\sum_{t \\in \\mathcal{t}} \\prod_{j = 1}^{k} \\lambda(t_j)\n",
      "$$\n",
      "\n",
      "There is still repitition in this sum because the orders of the $\\lambda_j$s for each term in the summation doesn't matter. So now let's instead consider the number of sets of a particular size. Let $s_i$ be the number of sets in the prefix with size $i$ and define the vector $s = (s_1, \\ldots, s_a)$. Let $\\mathcal{S}$ be the set of all such valid $s$ (note that the sum of these terms must add up to $k$). Then we can simplify down to...\n",
      "\n",
      "$$\n",
      "= P(G[:k])^k \\sum_{s \\in \\mathcal{S}} {{k}\\choose{s_1, s_2, \\ldots, s_a}} \\lambda(1)^{s_1} \\lambda(2)^{s_2} \\ldots \\lambda(a)^{s_a}\n",
      "$$"
     ]
    },
    {
     "cell_type": "heading",
     "level": 2,
     "metadata": {},
     "source": [
      "Simulations"
     ]
    },
    {
     "cell_type": "code",
     "collapsed": false,
     "input": [
      "# Constants\n",
      "SUM_MAX = 10\n",
      "\n",
      "# Taken from http://stackoverflow.com/questions/4941753/is-there-a-math-ncr-function-in-python\n",
      "def ncr(n, r):\n",
      "    r = min(r, n-r)\n",
      "    if r == 0: \n",
      "        return 1\n",
      "    numer = reduce(op.mul, xrange(n, n-r, -1))\n",
      "    denom = reduce(op.mul, xrange(1, r+1))\n",
      "    return numer / denom\n",
      "\n",
      "def get_sr(r, a, l, k):\n",
      "    to_return = ncr(l - k, r)\n",
      "    to_return *= bonferroni.get_intersection(a, k, r)\n",
      "    return to_return\n",
      "\n",
      "def get_lower_and_upper_bounds(bound_max, a, l, k):\n",
      "    lower = []\n",
      "    upper = []\n",
      "    total = 0\n",
      "    for i in range(1, bound_max + 1):\n",
      "        if i % 2 == 0:\n",
      "            total -= get_sr(i, a, l, k)\n",
      "            lower.append(total)\n",
      "        else:\n",
      "            total += get_sr(i, a, l, k)\n",
      "            upper.append(total)\n",
      "    return (lower, upper)\n",
      "\n",
      "def plot_lower_and_upper(a, l, k):\n",
      "    lower, upper = get_lower_and_upper_bounds(SUM_MAX, a, l, k)\n",
      "    low_max, high_min = max(lower), min(upper)\n",
      "    print 'Lower Bound: %f' % low_max\n",
      "    print 'Upper Bound: %f' % high_min\n",
      "    \n",
      "#     relative_error = []\n",
      "#     for index in range(len(lower)):\n",
      "#         relative_error.append((upper[index] - lower[index]) / upper[index])\n",
      "    \n",
      "    plt.plot(range(1, len(lower) + 1), lower, label='Lower Bound')\n",
      "    plt.plot(range(1, len(upper) + 1), upper, label='Upper Bound')\n",
      "#     plt.plot(range(1, len(upper) + 1), relative_error)\n",
      "    plt.legend(loc='upper right')\n",
      "    plt.title('Lower and Upper Bounds for Probability')\n",
      "    plt.xlabel('Bound Number')\n",
      "    plt.ylabel('Probability')\n",
      "    plt.show()\n",
      "    \n",
      "plot_lower_and_upper(4, 50, 20)\n",
      "# for i in range(5, 105, 5):\n",
      "#     plot_lower_and_upper(4, 100, i)"
     ],
     "language": "python",
     "metadata": {},
     "outputs": [
      {
       "output_type": "stream",
       "stream": "stdout",
       "text": [
        "Lower Bound: 0.162579\n",
        "Upper Bound: 0.162596\n"
       ]
      },
      {
       "metadata": {},
       "output_type": "display_data",
       "png": "[encoded data removed]",
       "text": [
        "<matplotlib.figure.Figure at 0x7f3624203d10>"
       ]
      }
     ],
     "prompt_number": 3
    }
   ],
   "metadata": {}
  }
 ]
}