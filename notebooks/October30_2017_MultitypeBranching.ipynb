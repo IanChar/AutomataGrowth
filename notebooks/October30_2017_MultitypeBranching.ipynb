{
 "cells": [
  {
   "cell_type": "code",
   "execution_count": 1,
   "metadata": {
    "collapsed": true
   },
   "outputs": [],
   "source": [
    "from scipy.stats import binom\n",
    "from scipy.special import binom as ncr\n",
    "from scipy.misc import factorial\n",
    "from __future__ import division\n",
    "import matplotlib.pyplot as plt\n",
    "import numpy as np\n",
    "\n",
    "import sys\n",
    "sys.path.append('..')\n",
    "import merge_alg\n",
    "sys.path.append('../common')\n",
    "import common_probs\n",
    "from sampler import DepthSampler\n",
    "sys.path.append('../aho_merging')\n",
    "from failure_tree import FailureTree\n",
    "import arbitrary_probs_util as string_util\n",
    "import markov_signature_size"
   ]
  },
  {
   "cell_type": "markdown",
   "metadata": {},
   "source": [
    "#### Note:\n",
    "Changing signatures to include the current depth so root node has signature $(0)$, state in depth 1 has signature $(0, 1)$, etc."
   ]
  },
  {
   "cell_type": "markdown",
   "metadata": {},
   "source": [
    "# MultiType Branching\n",
    "\n",
    "For this, I explore possibilities of multitype branching but with merging included. First, we focus just on the multitype branching part. Let $Z_k$ be a vector representing the number of states a depth $k$ of the DFA. In particular, the $i^{th}$ index of the vector is the number of signatures with size $i + 1$. On top of this, let $Y_{i, j}$ be a vector representing the offspring of state $j$ with $i + 1$ elements in the signature. Overall we have...\n",
    "\n",
    "$$\n",
    "Z_k = \\sum_{i = 1}^{n}\\sum_{j=1}^{Z_{i, (k -1)}} Y_{i, j}\n",
    "$$\n",
    "\n",
    "With some quick math and assumption of independence we can show that...\n",
    "\n",
    "$$\n",
    "u_k = u_{k - 1} M \\implies u_k = u_0 M^k\n",
    "$$\n",
    "\n",
    "Where $u_k := E[Z_k]$ and $m_{i, j} = E[Z_{j,1} | Z_0 = e_i]$ for $i, j \\in \\{1, \\ldots, n\\}$. In other words, $M$ is the matrix that contains expected one step information. While the true $M$ may be very hard to form and may not even be feasible (because right now we are assuming that things are depth homogenous), there is a simple $M$ that would could use for an upper bound.\n",
    "\n",
    "For row $1 \\leq i < n$ of the matrix we can have the probabilities distributed as a $Binomial(i, c_2) + 1$. This will be the same for the last row, however, we are short one column so combine the last two columns. The intuition behind doing this comes from the fact that given some parent signature, the child's signature can only have the elements of the parents signature plus 1 (and also 0). It makes sense that to add one to one of the parent signature terms the probability should be $c_2$ (the probability of two sets overlapping). Thus we get a binomial for the amount of terms in the child's signature."
   ]
  },
  {
   "cell_type": "markdown",
   "metadata": {},
   "source": [
    "# Adding in Merging\n",
    "\n",
    "With this established we would like to now add in merging. Assume that in some current depth we know that we have expanded $b$ states of a certain type. Furthermore, we know that there are only $u$ possible signatures that can be taken for each of the states. We want to know how many unique signatures there are in the expanded states then. This can be thought of as the urn and ball problem where given $u$ urns and $b$ balls, we want to know how many urns have at least one ball in them.\n",
    "\n",
    "For simplicity, assume that we are able to throw each ball into an urn with equal probability. This will result in an upper bound since it is less likely that an urn has multiple balls (thus we will merge less). This probability has been previously found. In particular where $x$ is the number of states remaining after we merge...\n",
    "\n",
    "$$\n",
    "P(X_{u, b} = x) = nCr(u, x) * S(b, x) * \\frac{1}{x!} \\left(\\frac{1}{u}\\right)^b\n",
    "$$\n",
    "\n",
    "Here $S(n,k)$ is the Stirling number of the second kind which represents the number of ways to partition a set of n objects into k non-empty subsets (https://en.wikipedia.org/wiki/Stirling_numbers_of_the_second_kind). The goal is then to find the expected amount of merging index of the offspring vector ($Z_k$).\n",
    "\n",
    "$$\n",
    "E[X_{u, b} | b = Z_k]\n",
    "$$\n",
    "\n",
    "Here $u$ for the equation at index $i$ is $u = nCr(n, i)$. The final goal is then to find\n",
    "\n",
    "$$\n",
    "E[E[X_{u, b} | b = Z_k]]\n",
    "$$\n",
    "\n",
    "Which is what I attempted below..."
   ]
  },
  {
   "cell_type": "code",
   "execution_count": 26,
   "metadata": {},
   "outputs": [
    {
     "data": {
      "image/png": "[encoded data removed]",
      "text/plain": [
       "<matplotlib.figure.Figure at 0x7fc572b92710>"
      ]
     },
     "metadata": {},
     "output_type": "display_data"
    },
    {
     "name": "stdout",
     "output_type": "stream",
     "text": [
      "Previous best upper bound limit: 48518.561241\n"
     ]
    }
   ],
   "source": [
    "# Monte Carlo to test expected value expression.\n",
    "\n",
    "MAX_DEPTH = 50\n",
    "MAX_SIG_DEPTH = 10\n",
    "PROBS = [0.5 for _ in range(4)]\n",
    "SAMPLES = 100\n",
    "\n",
    "c_2 = common_probs.get_arbitrary_c2(PROBS)\n",
    "\n",
    "# The expected values of the offspring types should just be\n",
    "# the probability they happen from a binomial.\n",
    "exp_y = np.zeros((MAX_SIG_DEPTH, MAX_SIG_DEPTH))\n",
    "for row in xrange(MAX_SIG_DEPTH):\n",
    "    b_dist = binom(row + 1, c_2)\n",
    "    for col in xrange(row + 2):\n",
    "        if col >= MAX_SIG_DEPTH:\n",
    "            col = MAX_SIG_DEPTH - 1\n",
    "        exp_y[row, col] += b_dist.pmf(col)\n",
    "\n",
    "def simulate():\n",
    "    sizes = []\n",
    "    curr = np.zeros((1, MAX_SIG_DEPTH))\n",
    "    curr[0,0] = 1\n",
    "    for _ in xrange(MAX_DEPTH):\n",
    "        sizes.append(np.sum(curr))\n",
    "        curr = find_next(curr)\n",
    "    sizes.append(np.sum(curr))\n",
    "    return sizes\n",
    "        \n",
    "def find_next(last_expected):\n",
    "    next_output = np.dot(last_expected, exp_y)\n",
    "    merged_vec = np.zeros(next_output.shape)\n",
    "    for i in xrange(next_output.shape[1]):\n",
    "        merged_vec[0, i] = expected_merge(next_output[0, i], i + 1)\n",
    "    return merged_vec\n",
    "\n",
    "merge_cache = {}\n",
    "def expected_merge(output, sig_size):\n",
    "    if (output, sig_size) in merge_cache:\n",
    "        return merge_cache[(output, sig_size)]\n",
    "    urns = ncr(MAX_SIG_DEPTH, sig_size)\n",
    "    expected = 0\n",
    "    out_int = int(np.ceil(output))\n",
    "    prob = (1 / urns) ** out_int\n",
    "    for y in xrange(1, out_int + 1):\n",
    "        expected += y * ncr(urns, y) * stirling_numerator(out_int, y) * prob\n",
    "    merge_cache[(output, sig_size)] = expected\n",
    "    return expected\n",
    "    \n",
    "def stirling_numerator(a, b):\n",
    "    to_return = 0\n",
    "    for j in xrange(b + 1):\n",
    "        to_return += (-1) ** (b - j) * ncr(b, j) * j ** a\n",
    "    return to_return\n",
    "\n",
    "# Sample from algorithm\n",
    "ds = DepthSampler(PROBS, MAX_DEPTH)\n",
    "df = ds.draw_samples(SAMPLES, ['states'])\n",
    "sample_sizes = df.groupby('depth')['states'].mean()\n",
    "\n",
    "# Plot\n",
    "sizes = simulate()\n",
    "plt.plot(range(MAX_DEPTH + 1), sizes, label='Model')\n",
    "plt.plot(range(MAX_DEPTH + 1), sample_sizes, '--', label='Samples')\n",
    "plt.xlabel('Depth')\n",
    "plt.ylabel('Number of States')\n",
    "plt.title('Expected Number of States vs Depth')\n",
    "plt.legend(bbox_to_anchor=[1,1])\n",
    "plt.show()\n",
    "\n",
    "print 'Previous best upper bound limit: %f' % (2 ** (np.log(MAX_DEPTH) / np.log(1 / c_2)))"
   ]
  },
  {
   "cell_type": "markdown",
   "metadata": {},
   "source": [
    "### Some notes on this...\n",
    "\n",
    "* This seems to work! Much better upper bound than before.\n",
    "\n",
    "* Flattens out sharply and very suddenly implying that maybe we can find a fixed point of this equation. This would make things easy to show that they converge. However, there will be a lot of difficult math to do this."
   ]
  },
  {
   "cell_type": "markdown",
   "metadata": {},
   "source": [
    "# Failure Tree\n",
    "\n",
    "Perhaps it would be better to analyze the failure tree. That is the tree that is made by only considering the failure transitions. You can prove that this is indeed a tree using the fact that any state only has one failure. Below, I did simulations of this failure tree and plotted the size of the failure trees depth. One can see most of the tree is concentrated in the lower depths."
   ]
  },
  {
   "cell_type": "code",
   "execution_count": 8,
   "metadata": {},
   "outputs": [
    {
     "data": {
      "image/png": "[encoded data removed]",
      "text/plain": [
       "<matplotlib.figure.Figure at 0x7fbef3ecdd10>"
      ]
     },
     "metadata": {},
     "output_type": "display_data"
    }
   ],
   "source": [
    "PROBS = [0.5 for _ in range(4)]\n",
    "SIMULATIONS = 1000\n",
    "LENGTH = 20\n",
    "\n",
    "# Simulate trees to find the size of the tree depth.\n",
    "alph = string_util.get_default_alphabet(len(PROBS))\n",
    "depth_avgs = []\n",
    "samples = []\n",
    "for _ in xrange(SIMULATIONS):\n",
    "    g = string_util.create_random_string(PROBS, LENGTH)\n",
    "    dfa = merge_alg.aho_merge(g, alph)\n",
    "    ft = FailureTree(dfa.root)\n",
    "    if len(samples) < 3:\n",
    "        samples.append(ft.depth_sizes)\n",
    "    while len(ft.depth_sizes) >= len(depth_avgs):\n",
    "        depth_avgs.append(0)\n",
    "    for ind, s in enumerate(ft.depth_sizes):\n",
    "        depth_avgs[ind] += s\n",
    "for i in range(len(depth_avgs)):\n",
    "    depth_avgs[i] /= SIMULATIONS\n",
    "    \n",
    "plt.plot(range(len(depth_avgs)), depth_avgs)\n",
    "for s in samples:\n",
    "    plt.plot(range(len(s)), s, '--')\n",
    "plt.show()"
   ]
  },
  {
   "cell_type": "markdown",
   "metadata": {},
   "source": [
    "# Failure Tree Modelling\n",
    "\n",
    "In order to attempt modelling the failure tree, consider the Markov chain discussed earlier in which we can find the probability of a given signatures size given the depth in the tree. The ptm for this is just the $M$ matrix used above. \n",
    "\n",
    "Consider $F_k$ which is the number of nodes in depth $k$ of the failure tree. One lower bound could then be...\n",
    "\n",
    "$$\n",
    "F_k \\geq \\sum_{i = 1}^{n} \\mathbb{1}[\\textrm{Depth $i$ in DFA has signature of size $k + 1$}]\n",
    "$$\n",
    "\n",
    "This is a lower bound because there could be multiple signatures of size $k + 1$ in depth $i$. Let $F = \\sum F_k$ (i.e. size of the entire tree). Note then that...\n",
    "\n",
    "$$\n",
    "F \\geq || \\sum_{j = 0}^n e_0^T M^j ||_1\n",
    "$$\n",
    "\n",
    "By doing this in matrix form we compute each $F_k$ at once and then do the 1 norm to compute F. While this lower bound captures the correct shape of the distribution, it is not tight enough to be useful. Overall, it seems quite hard to model how many states are in the tree."
   ]
  },
  {
   "cell_type": "code",
   "execution_count": 2,
   "metadata": {},
   "outputs": [
    {
     "data": {
      "image/png": "[encoded data removed]",
      "text/plain": [
       "<matplotlib.figure.Figure at 0x7f619a762ed0>"
      ]
     },
     "metadata": {},
     "output_type": "display_data"
    }
   ],
   "source": [
    "# Find the expected failure tree depth sizes with the Markov Model.\n",
    "\n",
    "PROBS = [0.5 for _ in range(4)]\n",
    "DEPTH = 20\n",
    "\n",
    "c_2 = common_probs.get_arbitrary_c2(PROBS)\n",
    "\n",
    "sizes = markov_signature_size.expected_sizes(c_2, DEPTH)\n",
    "plt.plot(range(len(sizes[0])), sizes[0])\n",
    "plt.show()"
   ]
  },
  {
   "cell_type": "markdown",
   "metadata": {},
   "source": [
    "This seems to be the exact right shape we need. Just needs to be scaled by some factor so that we have the "
   ]
  }
 ],
 "metadata": {
  "kernelspec": {
   "display_name": "Python 2",
   "language": "python",
   "name": "python2"
  },
  "language_info": {
   "codemirror_mode": {
    "name": "ipython",
    "version": 2
   },
   "file_extension": ".py",
   "mimetype": "text/x-python",
   "name": "python",
   "nbconvert_exporter": "python",
   "pygments_lexer": "ipython2",
   "version": "2.7.12"
  }
 },
 "nbformat": 4,
 "nbformat_minor": 2
}
