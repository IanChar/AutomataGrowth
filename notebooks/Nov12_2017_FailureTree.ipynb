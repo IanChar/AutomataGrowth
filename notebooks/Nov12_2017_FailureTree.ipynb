{
 "cells": [
  {
   "cell_type": "code",
   "execution_count": 1,
   "metadata": {
    "collapsed": true
   },
   "outputs": [],
   "source": [
    "from scipy.stats import binom\n",
    "from scipy.special import binom as ncr\n",
    "from scipy.misc import factorial\n",
    "from random import random\n",
    "from __future__ import division\n",
    "import matplotlib.pyplot as plt\n",
    "import numpy as np\n",
    "\n",
    "import sys\n",
    "sys.path.append('..')\n",
    "import merge_alg\n",
    "sys.path.append('../common')\n",
    "import common_probs\n",
    "from sampler import DepthSampler\n",
    "import arbitrary_probs_util as string_util\n",
    "sys.path.append('../experimental')\n",
    "from failure_tree import FailureTree\n",
    "import markov_signature_size"
   ]
  },
  {
   "cell_type": "code",
   "execution_count": 2,
   "metadata": {},
   "outputs": [
    {
     "name": "stdout",
     "output_type": "stream",
     "text": [
      "2.44 2.44\n"
     ]
    }
   ],
   "source": [
    "# Test to see if merge expected value is accurate.\n",
    "\n",
    "URNS = 5\n",
    "BALLS = 3\n",
    "\n",
    "# Compute expected value from the sum.\n",
    "dist = common_probs.uniform_urn_dist(URNS, BALLS)\n",
    "summed_expected = 0\n",
    "for k in xrange(URNS + 1):\n",
    "    summed_expected += k * dist[k]\n",
    "    \n",
    "# Compute expected value from the analytic expression.\n",
    "analytic = URNS * (1 - (1 - 1 / URNS) ** BALLS)\n",
    "\n",
    "print summed_expected, analytic"
   ]
  },
  {
   "cell_type": "code",
   "execution_count": 10,
   "metadata": {},
   "outputs": [
    {
     "data": {
      "image/png": "[encoded data removed]",
      "text/plain": [
       "<matplotlib.figure.Figure at 0x7f3d03baa990>"
      ]
     },
     "metadata": {},
     "output_type": "display_data"
    }
   ],
   "source": [
    "# Try scheme where we just plug in expected output into merging expected value.\n",
    "PROBS = [0.5 for _ in range(4)]\n",
    "DEPTH = 20\n",
    "\n",
    "c_2 = common_probs.get_arbitrary_c2(PROBS)\n",
    "ptm = markov_signature_size.get_ptm(c_2, DEPTH)\n",
    "\n",
    "def step(prev):\n",
    "    nxt = len(PROBS) * np.dot(prev, ptm)\n",
    "    nxt = merge(nxt)\n",
    "    return nxt\n",
    "\n",
    "def merge(vec):\n",
    "    vec_size = vec.shape[1]\n",
    "    for ind in xrange(vec_size):\n",
    "        balls = vec[0,ind]\n",
    "        urns = ncr(vec_size, ind + 1)\n",
    "        after_merge = urns * (1 - (1 - 1 / urns) ** balls)\n",
    "#         print vec[0, ind] - after_merge # Seems merging a decent amount\n",
    "        vec[0, ind] = after_merge\n",
    "    return vec\n",
    "\n",
    "total = np.zeros((1, DEPTH))\n",
    "curr = np.zeros((1, DEPTH))\n",
    "curr[0,0] = 1\n",
    "for _ in xrange(DEPTH):\n",
    "    total += curr\n",
    "    curr = step(curr)\n",
    "    \n",
    "plt.plot(range(total.shape[1]), total[0])\n",
    "plt.show()"
   ]
  }
 ],
 "metadata": {
  "kernelspec": {
   "display_name": "Python 2",
   "language": "python",
   "name": "python2"
  },
  "language_info": {
   "codemirror_mode": {
    "name": "ipython",
    "version": 2
   },
   "file_extension": ".py",
   "mimetype": "text/x-python",
   "name": "python",
   "nbconvert_exporter": "python",
   "pygments_lexer": "ipython2",
   "version": "2.7.12"
  }
 },
 "nbformat": 4,
 "nbformat_minor": 2
}
