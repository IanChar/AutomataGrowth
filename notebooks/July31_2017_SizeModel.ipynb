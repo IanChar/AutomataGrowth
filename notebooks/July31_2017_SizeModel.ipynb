{
 "cells": [
  {
   "cell_type": "code",
   "execution_count": 2,
   "metadata": {},
   "outputs": [],
   "source": [
    "# Run this first!!!\n",
    "from IPython.display import display, HTML\n",
    "\n",
    "from __future__ import division\n",
    "import matplotlib.pyplot as plt\n",
    "import numpy as np\n",
    "from scipy.stats import poisson\n",
    "\n",
    "import sys\n",
    "sys.path.append('../experimental')\n",
    "from size_model import SizeModel\n",
    "sys.path.append('../common')\n",
    "import util\n",
    "import common_probs\n",
    "from sampler import DepthSampler"
   ]
  },
  {
   "cell_type": "code",
   "execution_count": 3,
   "metadata": {
    "collapsed": true
   },
   "outputs": [],
   "source": [
    "def plot_avg_trend(alph_sizes, length, num_samples):\n",
    "    avgs = []\n",
    "    for size in alph_sizes:\n",
    "        probs = [0.5 for _ in xrange(size)]\n",
    "        avgs.append(get_long_time_avg(probs, length, num_samples))\n",
    "    plt.plot(alph_sizes, avgs)\n",
    "    plt.xlabel('Alphabet Size')\n",
    "    plt.ylabel('Mean Offspring')\n",
    "    plt.title('Mean Offspring vs Alphabet Size')\n",
    "    plt.show()\n",
    "\n",
    "def get_long_time_avg(probs, length, num_samples):\n",
    "    ds = DepthSampler(probs, length)\n",
    "    df = ds.draw_samples(num_samples, ['thread_children'])\n",
    "    offsprings = df[df['depth'] == length - 1]['thread_children']\n",
    "    offsprings = offsprings.map(lambda l: 0 if len(l) == 0 else sum(l) / len(l))\n",
    "    return offsprings.mean()"
   ]
  },
  {
   "cell_type": "code",
   "execution_count": 31,
   "metadata": {},
   "outputs": [
    {
     "data": {
      "image/png": "[encoded data removed]",
      "text/plain": [
       "<matplotlib.figure.Figure at 0x7f473cc35ed0>"
      ]
     },
     "metadata": {},
     "output_type": "display_data"
    }
   ],
   "source": [
    "# Parameters\n",
    "ALPH_SIZES = range(2, 11)\n",
    "LENGTH = 50\n",
    "NUM_SAMPLES = 1000\n",
    "\n",
    "plot_avg_trend(ALPH_SIZES, LENGTH, NUM_SAMPLES)"
   ]
  },
  {
   "cell_type": "markdown",
   "metadata": {},
   "source": [
    "## Model Adjustment\n",
    "\n",
    "At this point I realized I might be trying to make things too complicated. Really the purpose of this model is to find the long term average of states per depth. To do this we only need to find the two averages $\\mu_X$ and $\\mu_Y$. However, when plugging in the values that were found in last week's notebook it overestimates the long term average by quite a bit. Can the model be adjusted so that the values that we sample work out?"
   ]
  },
  {
   "cell_type": "markdown",
   "metadata": {},
   "source": [
    "## How close is the original model?\n",
    "\n",
    "Let's run calculations to find how close the original model is to predicting the asymptotic mean of states per depth."
   ]
  },
  {
   "cell_type": "code",
   "execution_count": 38,
   "metadata": {
    "collapsed": true
   },
   "outputs": [],
   "source": [
    "def sample(probs, length, num_samples):\n",
    "    ds = DepthSampler(probs, length)\n",
    "    return ds.draw_samples(num_samples, ['threads', 'thread_children', 'new_thread'])\n",
    "\n",
    "def compute_asym_avg_new_threads(df, length):\n",
    "    return df[df['depth'] == length - 1]['new_thread'].mean()\n",
    "\n",
    "def compute_asym_avg_offspring(df, length):\n",
    "    total_offspring = df[df['depth'] == length - 1]['thread_children'].map(sum).sum()\n",
    "    num_threads = df[df['depth'] == length - 1]['threads'].sum()\n",
    "    return total_offspring / num_threads\n",
    "\n",
    "def compute_asym_avg_threads(df, length):\n",
    "    return df[df['depth'] == length - 1]['threads'].mean()\n",
    "\n",
    "def compute(probs, length, num_samples):\n",
    "    df = sample(probs, length, num_samples)\n",
    "    mu_x = compute_asym_avg_new_threads(df, length)\n",
    "    mu_y = compute_asym_avg_offspring(df, length)\n",
    "    print 'Mu_x = %f' % mu_x\n",
    "    print 'Mu_y = %f' % mu_y\n",
    "    if mu_y >= 1:\n",
    "        print 'Mu_y >= 1: Geometric series does not converge.'\n",
    "    else:\n",
    "        print 'Theoretical limE[Z_n]: %f' % (mu_x / (1 - mu_y))\n",
    "        print 'Sampled limE[Z_n]: %f' % compute_asym_avg_threads(df, length)"
   ]
  },
  {
   "cell_type": "code",
   "execution_count": 39,
   "metadata": {},
   "outputs": [
    {
     "name": "stdout",
     "output_type": "stream",
     "text": [
      "Mu_x = 0.646000\n",
      "Mu_y = 0.956789\n",
      "Theoretical limE[Z_n]: 14.949900\n",
      "Sampled limE[Z_n]: 5.531000\n"
     ]
    }
   ],
   "source": [
    "# PARAMETERS\n",
    "PROBS = [0.5 for _ in range(4)]\n",
    "LENGTH = 50\n",
    "SAMPLES = 1000\n",
    "\n",
    "compute(PROBS, LENGTH, SAMPLES)"
   ]
  },
  {
   "cell_type": "markdown",
   "metadata": {},
   "source": [
    "So you can see the model actually is not very good at predicting asymptotic mean yet. Somehow in the picture that the model paints we are producing much more states. Need to brainstorm reasons for this. Some possibilities I can think of right now are...\n",
    "\n",
    "1. We are not accounting enough for threads merging together.\n",
    "2. The model assumes that these averages are constant throughout the lifetime of the process. However, we have seen that in reality there is some \"ramp-up\" period where the averages increase to these values. It could be that by assuming these averages are high from the start we accumulate more states and the long time average is also high. This seems unlikely to me though because asymptotically I would think this would have little effect."
   ]
  },
  {
   "cell_type": "markdown",
   "metadata": {},
   "source": [
    "### Adding a Merge Term (Doesn't end up working)\n",
    "\n",
    "One thing that I realized might help is adding a term that accounts for threads merging together. Let $M_n$ be the number of threads that have been merged together at depth $n$. The new model can then be formulated as...\n",
    "\n",
    "$$\n",
    "Z_{n + 1} = X_{n + 1} - M_{n + 1} + \\sum_{i=1}^{Z_n} Y_i\n",
    "$$\n",
    "\n",
    "Of course now $M_{n}$ has an intertwined relationship with the other random variables $X$ and $Y$s take since the number of states we have in a depth cannot be negative. That is, the support of $M_n$ is $\\{0, \\ldots, X_n + \\sum_{i=1}^{Z_n} Y_i\\}$. Because of this, it is unlikely that $M_n$ is time-homogenous. For now to get around this, let's just try to use $M_n$ as if it is a normal random variable and see if this is a better fitting model. With this assumption made now note that...\n",
    "\n",
    "$$\n",
    "\\lim_{n \\rightarrow \\infty} Z_n = \\frac{\\mu_X - \\mu_M}{1 - \\mu_Y}\n",
    "$$\n",
    "\n",
    "One other adjustment that must be made with this is before with the offspring, I was only counting each child once. In other words, if a thread was merged into another thread the child would only count for one of the threads so that there was no double counting. With this addition though we must change that.\n",
    "\n",
    "Now let's sample these values, plug them into the formula, and see how they compare to the long term average."
   ]
  },
  {
   "cell_type": "code",
   "execution_count": 40,
   "metadata": {
    "collapsed": true
   },
   "outputs": [],
   "source": [
    "def sample(probs, length, num_samples):\n",
    "    ds = DepthSampler(probs, length)\n",
    "    return ds.draw_samples(num_samples, ['threads', 'total_children', 'new_thread', 'merge_degree'])\n",
    "\n",
    "def compute_asym_avg_new_threads(df, length):\n",
    "    return df[df['depth'] == length - 1]['new_thread'].mean()\n",
    "\n",
    "def compute_asym_avg_offspring(df, length):\n",
    "    total_offspring = df[df['depth'] == length - 1]['total_children'].map(sum).sum()\n",
    "    num_threads = df[df['depth'] == length - 1]['threads'].sum()\n",
    "    return total_offspring / num_threads\n",
    "\n",
    "def compute_asym_avg_merged(df, length):\n",
    "    total_merged = df[df['depth'] == length - 1]['merge_degree'].map(sum).sum()\n",
    "    num_threads = df[df['depth'] == length - 2]['total_children'].map(sum).sum()\n",
    "    return total_merged / num_threads\n",
    "\n",
    "def compute(probs, length, num_samples):\n",
    "    df = sample(probs, length, num_samples)\n",
    "    mu_x = compute_asym_avg_new_threads(df, length)\n",
    "    mu_y = compute_asym_avg_offspring(df, length)\n",
    "    mu_m = compute_asym_avg_merged(df, length)\n",
    "    print 'Mu_x = %f' % mu_x\n",
    "    print 'Mu_y = %f' % mu_y\n",
    "    print 'Mu_m = %f' % mu_m\n",
    "    if mu_m > mu_x:\n",
    "        print 'Mu_m > Mu_x: Negative mean results.'\n",
    "    elif mu_y >= 1:\n",
    "        print 'Mu_y >= 1: Geometric series does not converge.'\n",
    "    else:\n",
    "        print 'lim E[Z_n] = %f' % (mu_x - mu_m) / (1 - mu_y)"
   ]
  },
  {
   "cell_type": "code",
   "execution_count": 41,
   "metadata": {},
   "outputs": [
    {
     "name": "stdout",
     "output_type": "stream",
     "text": [
      "Mu_x = 0.660000\n",
      "Mu_y = 1.593878\n",
      "Mu_m = 0.400251\n",
      "Mu_y >= 1: Geometric series does not converge.\n"
     ]
    }
   ],
   "source": [
    "# PARAMETERS\n",
    "PROBS = [0.5 for _ in range(4)]\n",
    "LENGTH = 50\n",
    "SAMPLES = 100\n",
    "\n",
    "compute(PROBS, LENGTH, SAMPLES)"
   ]
  },
  {
   "cell_type": "markdown",
   "metadata": {},
   "source": [
    "One thing that I did not consider is that with the adjustment to how we count offspring, the geometric series no longer converges. In order to fix this we would have to consider the amount of merged states in the sum so that the average would be lower and the series would converge. However, this is pretty much the old model so really no progress was made here."
   ]
  },
  {
   "cell_type": "markdown",
   "metadata": {},
   "source": [
    "## More Attempts at Diagnosing the Problem\n",
    "\n",
    "In order to get a better picture at what might be going wrong, we can plot the actual sampled DFA mean along with the model. For the offspring distribution we will use a Poisson distribution since it is easy to get the mean and the offspring looked approximately Poisson before."
   ]
  },
  {
   "cell_type": "code",
   "execution_count": 56,
   "metadata": {
    "collapsed": true
   },
   "outputs": [],
   "source": [
    "def plot_trends(probs, length, num_samples, mu_x, mu_y):\n",
    "    depths = range(1, length + 1)\n",
    "    alg_trend = get_alg_trend(probs, length, num_samples)[1:]\n",
    "    plt.plot(depths, alg_trend, label='Algorithm')\n",
    "    pois = approximate_poisson_dist(mu_y, len(probs))\n",
    "    model_trend = get_model_trend(num_samples, length, mu_x, pois)\n",
    "    plt.plot(depths, model_trend, linestyle='--', label='Model')\n",
    "    plt.legend(bbox_to_anchor=(1.05, 1), loc=2, borderaxespad=0.)\n",
    "    plt.xlabel('Depth')\n",
    "    plt.ylabel('Average Number of Threads')\n",
    "    plt.title('Average Number of Threads vs Depth')\n",
    "    plt.show()\n",
    "    \n",
    "def get_alg_trend(probs, length, num_samples):\n",
    "    ds = DepthSampler(probs, length)\n",
    "    df = ds.draw_samples(num_samples, ['threads'])\n",
    "    return df.groupby('depth')['threads'].mean().tolist()\n",
    "    \n",
    "def get_model_trend(num_samples, length, mu_x, dist):\n",
    "    model = SizeModel(mu_x, dist)\n",
    "    return model.do_sims(length, num_samples)\n",
    "\n",
    "def approximate_poisson_dist(mu_y, possible_offspring):\n",
    "    dist = [poisson.pmf(i, mu_y) for i in range(possible_offspring + 1)]\n",
    "    dist[0] = 1 - sum(dist[1:])\n",
    "    return dist"
   ]
  },
  {
   "cell_type": "code",
   "execution_count": 58,
   "metadata": {},
   "outputs": [
    {
     "data": {
      "image/png": "[encoded data removed]",
      "text/plain": [
       "<matplotlib.figure.Figure at 0x7fcabb654110>"
      ]
     },
     "metadata": {},
     "output_type": "display_data"
    }
   ],
   "source": [
    "# PARAMETERS\n",
    "PROBS = [0.5 for _ in range(4)]\n",
    "LENGTH = 50\n",
    "NUM_SAMPLES = 1000\n",
    "MU_X = 0.65\n",
    "MU_Y = 0.956\n",
    "\n",
    "plot_trends(PROBS, LENGTH, NUM_SAMPLES, MU_X, MU_Y)"
   ]
  },
  {
   "cell_type": "markdown",
   "metadata": {},
   "source": [
    "It's interesting because it seems like the start of each of the curves is about the same, and it even looks like the algorithm grows faster. But then the algorithm very suddenly stop increasing and becomes constant while the model keeps increasing."
   ]
  },
  {
   "cell_type": "markdown",
   "metadata": {},
   "source": [
    "## The Answer\n",
    "\n",
    "So one thing I was not considering before was merges that happen with new threads which actually occurs quite frequently. Considering this we get a much more accurate depiction of what is happening."
   ]
  },
  {
   "cell_type": "code",
   "execution_count": 2,
   "metadata": {
    "collapsed": true
   },
   "outputs": [],
   "source": [
    "# Note that this is actually the same code that appears below. Just rewriting/running it again to show change.\n",
    "def sample(probs, length, num_samples):\n",
    "    ds = DepthSampler(probs, length)\n",
    "    return ds.draw_samples(num_samples, ['threads', 'thread_children', 'new_thread'])\n",
    "\n",
    "def compute_asym_avg_new_threads(df, length):\n",
    "    return df[df['depth'] == length - 1]['new_thread'].mean()\n",
    "\n",
    "def compute_asym_avg_offspring(df, length):\n",
    "    total_offspring = df[df['depth'] == length - 1]['thread_children'].map(sum).sum()\n",
    "    num_threads = df[df['depth'] == length - 1]['threads'].sum()\n",
    "    return total_offspring / num_threads\n",
    "\n",
    "def compute_asym_avg_threads(df, length):\n",
    "    return df[df['depth'] == length - 1]['threads'].mean()\n",
    "\n",
    "def compute(probs, length, num_samples):\n",
    "    df = sample(probs, length, num_samples)\n",
    "    mu_x = compute_asym_avg_new_threads(df, length)\n",
    "    mu_y = compute_asym_avg_offspring(df, length)\n",
    "    print 'Mu_x = %f' % mu_x\n",
    "    print 'Mu_y = %f' % mu_y\n",
    "    if mu_y >= 1:\n",
    "        print 'Mu_y >= 1: Geometric series does not converge.'\n",
    "    else:\n",
    "        print 'Theoretical limE[Z_n]: %f' % (mu_x / (1 - mu_y))\n",
    "        print 'Sampled limE[Z_n]: %f' % compute_asym_avg_threads(df, length)"
   ]
  },
  {
   "cell_type": "code",
   "execution_count": 4,
   "metadata": {},
   "outputs": [
    {
     "name": "stdout",
     "output_type": "stream",
     "text": [
      "Mu_x = 0.646900\n",
      "Mu_y = 0.889491\n",
      "Theoretical limE[Z_n]: 5.853844\n",
      "Sampled limE[Z_n]: 5.403200\n"
     ]
    }
   ],
   "source": [
    "# PARAMETERS\n",
    "PROBS = [0.5 for _ in range(4)]\n",
    "LENGTH = 50\n",
    "SAMPLES = 10000\n",
    "\n",
    "compute(PROBS, LENGTH, SAMPLES)"
   ]
  },
  {
   "cell_type": "markdown",
   "metadata": {},
   "source": [
    "Much better! Even this seems like a pretty good accomplishment because now we have the (or an approximate) relationship between two easier to calculate expected values and a much harder one."
   ]
  },
  {
   "cell_type": "markdown",
   "metadata": {},
   "source": [
    "## Finding Upper Bound to Expected Number of States\n",
    "\n",
    "Finding an upper bound to the expected number of states should follow naturally from this then. This is because the most that the number of states and number of threads can differ by in any given depth is 1 (i.e. differ by the state with the failure going back to the epsilon state). Also since the expected number of states in a depth seems to be monotonically increasing with depth we can say that where $S_n$ is the number of states in depth $n$ that...\n",
    "\n",
    "$$\n",
    "E[S_n] \\leq \\lim_{n \\rightarrow \\infty}E[Z_n] + 1\n",
    "$$\n",
    "\n",
    "And where $N$ is the total depth of the DFA...\n",
    "$$\n",
    "\\sum_{n=0}^N E[S_n] \\leq (N - 1)\\left(\\lim_{n \\rightarrow \\infty}E[Z_n] + 1\\right) + 2\n",
    "$$"
   ]
  },
  {
   "cell_type": "code",
   "execution_count": 10,
   "metadata": {
    "collapsed": true
   },
   "outputs": [],
   "source": [
    "def sample(probs, length, num_samples):\n",
    "    ds = DepthSampler(probs, length)\n",
    "    return ds.draw_samples(num_samples, ['states', 'threads', 'thread_children', 'new_thread'])\n",
    "\n",
    "def compute_upperbound(df, length):\n",
    "    mu_x = df[df['depth'] == length - 1]['new_thread'].mean()\n",
    "    total_offspring = df[df['depth'] == length - 1]['thread_children'].map(sum).sum()\n",
    "    num_threads = df[df['depth'] == length - 1]['threads'].sum()\n",
    "    mu_y = total_offspring / num_threads\n",
    "    return (mu_x / (1 - mu_y)) + 1\n",
    "\n",
    "def plot_states(probs, length, num_samples):\n",
    "    df = sample(probs, length, num_samples)\n",
    "    states = df.groupby('depth')['states'].mean().tolist()[1:]\n",
    "    depths = range(1, length + 1)\n",
    "    plt.plot(depths, states)\n",
    "    upper = compute_upperbound(df, length)\n",
    "    plt.axhline(upper, ls='--')\n",
    "    plt.xlabel('Depth')\n",
    "    plt.ylabel('Average Number of States')\n",
    "    plt.title('Average Number of States vs Depth')\n",
    "    plt.show()"
   ]
  },
  {
   "cell_type": "code",
   "execution_count": 15,
   "metadata": {},
   "outputs": [
    {
     "data": {
      "image/png": "[encoded data removed]",
      "text/plain": [
       "<matplotlib.figure.Figure at 0x7f43461fdf90>"
      ]
     },
     "metadata": {},
     "output_type": "display_data"
    }
   ],
   "source": [
    "# PARAMETERS\n",
    "PROBS = [0.5 for _ in range(4)]\n",
    "LENGTH = 50\n",
    "SAMPLES = 10000\n",
    "\n",
    "plot_states(PROBS, LENGTH, SAMPLES)"
   ]
  },
  {
   "cell_type": "markdown",
   "metadata": {},
   "source": [
    "So it seems that my claim might not be completely accurate. This is because I forgot that number of states is not actually monotonically increasing for some reason. Still seems very close though. "
   ]
  },
  {
   "cell_type": "markdown",
   "metadata": {},
   "source": [
    "## Next Steps\n",
    "At this point, it would be great if I could find an analytical way to determine $\\mu_X$ and $\\mu_Y$. Before I was trying to make this too hard and find the exact distribution. However, really all that is needed is to find the expected values of each distribution, which seems like it should be more feasible to do. To do this I will most likely need to go back to the generalized string representation of things and work with probabilities there.\n",
    "\n",
    "I should also check to make sure that things hold for different alphabets and probabilities of seeing letters."
   ]
  }
 ],
 "metadata": {
  "kernelspec": {
   "display_name": "Python 2",
   "language": "python",
   "name": "python2"
  },
  "language_info": {
   "codemirror_mode": {
    "name": "ipython",
    "version": 2
   },
   "file_extension": ".py",
   "mimetype": "text/x-python",
   "name": "python",
   "nbconvert_exporter": "python",
   "pygments_lexer": "ipython2",
   "version": "2.7.12"
  }
 },
 "nbformat": 4,
 "nbformat_minor": 2
}
