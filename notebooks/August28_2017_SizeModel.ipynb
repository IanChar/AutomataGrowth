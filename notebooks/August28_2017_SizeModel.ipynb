{
 "cells": [
  {
   "cell_type": "code",
   "execution_count": 2,
   "metadata": {},
   "outputs": [],
   "source": [
    "# Run this first!!!\n",
    "from IPython.display import display, HTML\n",
    "\n",
    "from __future__ import division\n",
    "import matplotlib.pyplot as plt\n",
    "import numpy as np\n",
    "\n",
    "import sys\n",
    "sys.path.append('..')\n",
    "import util\n",
    "sys.path.append('../common')\n",
    "import sampling_misc"
   ]
  },
  {
   "cell_type": "code",
   "execution_count": 21,
   "metadata": {
    "collapsed": true
   },
   "outputs": [],
   "source": [
    "def get_theoretical(probs, m):\n",
    "    return _expand_possibilities(probs, m)\n",
    "\n",
    "def _expand_possibilities(probs, m, curr=None, index=0):\n",
    "    if curr is None:\n",
    "        curr = [False for _ in range(len(probs))]\n",
    "    if index == len(probs):\n",
    "        return _get_theor_term(probs, m, curr)\n",
    "    nxt = list(curr)\n",
    "    nxt[index] = True\n",
    "    return (_expand_possibilities(probs, m, nxt, index + 1)\n",
    "            + _expand_possibilities(probs, m, curr, index + 1))\n",
    "\n",
    "def _get_theor_term(probs, m, subset):\n",
    "    if True not in subset:\n",
    "        return 0\n",
    "    prob_f = 1\n",
    "    prob_x = 1\n",
    "    for i, include in enumerate(subset):\n",
    "        p = probs[i]\n",
    "        if include:\n",
    "            prob_f *= p\n",
    "            prob_x *= (1 - (1 - p) ** (m - 1) * p)\n",
    "        else:\n",
    "            prob_f *= (1 - p)\n",
    "    return (1 - prob_x) * prob_f\n",
    "\n",
    "def compare(probs, m, num_samples, depth):\n",
    "    theor = get_theoretical(probs, m)\n",
    "    df = sampling_misc.sample_state_has_new_thread(num_samples, probs, depth, [m])\n",
    "    sampled = df['has_new_thread'].mean()\n",
    "    print 'Theoretical: %f' % theor\n",
    "    print 'Sampled: %f' % sampled\n",
    "    print 'Relative Error: %f' % (abs(sampled - theor) / theor)"
   ]
  },
  {
   "cell_type": "code",
   "execution_count": 25,
   "metadata": {},
   "outputs": [
    {
     "name": "stdout",
     "output_type": "stream",
     "text": [
      "Theoretical: 0.413818\n",
      "Sampled: 0.498858\n",
      "Relative Error: 0.205501\n"
     ]
    }
   ],
   "source": [
    "# PARAMETERS\n",
    "PROBS = [0.5 for _ in range(4)] # Probability of seeing each letter.\n",
    "NUM_SAMPLES = 1000\n",
    "DEPTH = 10 # Depth to check state at\n",
    "M = 2 # Size of parent\n",
    "\n",
    "compare(PROBS, M, NUM_SAMPLES, DEPTH)"
   ]
  }
 ],
 "metadata": {
  "kernelspec": {
   "display_name": "Python 2",
   "language": "python",
   "name": "python2"
  },
  "language_info": {
   "codemirror_mode": {
    "name": "ipython",
    "version": 2
   },
   "file_extension": ".py",
   "mimetype": "text/x-python",
   "name": "python",
   "nbconvert_exporter": "python",
   "pygments_lexer": "ipython2",
   "version": "2.7.12"
  }
 },
 "nbformat": 4,
 "nbformat_minor": 2
}
