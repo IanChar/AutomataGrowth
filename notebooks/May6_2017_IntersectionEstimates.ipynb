{
 "metadata": {
  "name": ""
 },
 "nbformat": 3,
 "nbformat_minor": 0,
 "worksheets": [
  {
   "cells": [
    {
     "cell_type": "code",
     "collapsed": false,
     "input": [
      "# RUN THIS FIRST\n",
      "\n",
      "%matplotlib inline\n",
      "\n",
      "from __future__ import division\n",
      "from matplotlib import pyplot as plt\n",
      "import operator as op\n",
      "import numpy as np\n",
      "\n",
      "\n",
      "import sys\n",
      "sys.path.append('../aho_merging')\n",
      "import aho_test\n",
      "import bonferroni\n",
      "import substrings\n",
      "import match_overlaps"
     ],
     "language": "python",
     "metadata": {},
     "outputs": [],
     "prompt_number": 1
    },
    {
     "cell_type": "heading",
     "level": 1,
     "metadata": {},
     "source": [
      "Overview"
     ]
    },
    {
     "cell_type": "markdown",
     "metadata": {},
     "source": [
      "In this notebook I will explore finding the best way to compute $P(\\cap A_i)$ so that we can use Bonferroni to find $P(\\cup A_i)$. Here $A_i$ is there is a matching substring starting at index $i$."
     ]
    },
    {
     "cell_type": "heading",
     "level": 2,
     "metadata": {},
     "source": [
      "Better expression than last time"
     ]
    },
    {
     "cell_type": "markdown",
     "metadata": {},
     "source": [
      "It turns out there is a better way to find the probability of intersection given the assumptions that there are no overlaps. In \\texttt{BonferroniEstimate_April292017} we got the the step where...\\\n",
      "\n",
      "$$\n",
      "P(\\cap A_i) = \\left(\\frac{1}{2^a - 1}\\right)^k \\sum_{t} \\prod_{j = 1}^{k} \\lambda(t_j)\n",
      "$$\n",
      "\n",
      "But note because many things are identical we can rearrange this to be the following:\n",
      "\n",
      "$$\n",
      "P(\\cap A_i) = \\left( \\left(\\frac{1}{2^a - 1}\\right) \\sum_{j = 1}^{a} \\lambda(j)\\right)^k\n",
      "$$\n",
      "\n",
      "Indeed, running simulations shows that these are the same..."
     ]
    },
    {
     "cell_type": "code",
     "collapsed": false,
     "input": [
      "def is_different(a, k, r):\n",
      "    orig = bonferroni.get_intersection(a, k, r)\n",
      "    newProb = bonferroni.get_intersection_two(a, k, r)\n",
      "    if abs(newProb - orig) < 10 ** -6:\n",
      "        return False\n",
      "    return True\n",
      "\n",
      "def check_many():\n",
      "    for a in range (2, 5):\n",
      "        for k in range (1, 5):\n",
      "            for r in range(2, 5):\n",
      "                if is_different(a, k, r):\n",
      "                    print 'Different!'\n",
      "                    return False\n",
      "    print 'Same!'\n",
      "    return True\n",
      "\n",
      "check_many()"
     ],
     "language": "python",
     "metadata": {},
     "outputs": [
      {
       "output_type": "stream",
       "stream": "stdout",
       "text": [
        "Same!\n"
       ]
      },
      {
       "metadata": {},
       "output_type": "pyout",
       "prompt_number": 3,
       "text": [
        "True"
       ]
      }
     ],
     "prompt_number": 3
    },
    {
     "cell_type": "heading",
     "level": 2,
     "metadata": {},
     "source": [
      "Frechet Inequality"
     ]
    },
    {
     "cell_type": "markdown",
     "metadata": {},
     "source": [
      "Can Frechet inequality be used to find good estimates for the probabilities?"
     ]
    },
    {
     "cell_type": "code",
     "collapsed": false,
     "input": [
      "# Constants\n",
      "ALPH = 4\n",
      "SUB_LEN = 5\n",
      "TRIALS = 1000\n",
      "\n",
      "def do_frechet(intersections, a, k):\n",
      "    upper = bonferroni.get_single_match(a, k)\n",
      "    lower = max([0, intersections * upper - intersections + 1])\n",
      "    sim = bonferroni.sim_intersection_prob(a, k, intersections, TRIALS)\n",
      "    return (lower, sim, upper)\n",
      "\n",
      "for r in range(2, 10):\n",
      "    print do_frechet(r, ALPH, SUB_LEN)"
     ],
     "language": "python",
     "metadata": {},
     "outputs": [
      {
       "output_type": "stream",
       "stream": "stdout",
       "text": [
        "(0, 0.087, 0.28462802079628785)\n",
        "(0, 0.042, 0.28462802079628785)\n",
        "(0, 0.02, 0.28462802079628785)"
       ]
      },
      {
       "output_type": "stream",
       "stream": "stdout",
       "text": [
        "\n",
        "(0, 0.006, 0.28462802079628785)\n",
        "(0, 0.008, 0.28462802079628785)"
       ]
      },
      {
       "output_type": "stream",
       "stream": "stdout",
       "text": [
        "\n",
        "(0, 0.003, 0.28462802079628785)\n",
        "(0, 0.001, 0.28462802079628785)"
       ]
      },
      {
       "output_type": "stream",
       "stream": "stdout",
       "text": [
        "\n",
        "(0, 0.001, 0.28462802079628785)\n"
       ]
      }
     ],
     "prompt_number": 5
    },
    {
     "cell_type": "markdown",
     "metadata": {},
     "source": [
      "This is poor because upper bound is fixed for given a and k and will be signficantly larger for many intersections."
     ]
    },
    {
     "cell_type": "heading",
     "level": 2,
     "metadata": {},
     "source": [
      "A_i with overlap in the prefix"
     ]
    },
    {
     "cell_type": "markdown",
     "metadata": {},
     "source": [
      "First let's consider the simple case where only one event $A_i$ is being looked at but the matching substring overlaps with the prefix for some $\\gamma$ indices. Where $\\gamma < k/2$ then there are three cases that we need to look at:\n",
      "\n",
      "1. Decide whether the first $\\gamma$ intersection of the sets are non-empty.\n",
      "2. Decide whether the middle $k - 2\\gamma$ intersection of the sets are non-empty.\n",
      "3. Decide whether the last $\\gamma$ intersection of the sets are non-empty.\n",
      "\n",
      "Similar to last time we can employ the fact that given what the value of these $\\gamma$ characters are events become independent. For the following let $\\Gamma$ be the overlapping substring and let $M_j$ be the event the $j^{th}$ set intersection is non-empty. Then...\n",
      "\n",
      "$$\n",
      "P(A_i) = \\sum_\\Gamma P(A_i | \\Gamma) P(\\Gamma)\n",
      "$$\n",
      "\n",
      "Since probability of all $\\Gamma$ are equal can pull out. Now use conditional independence and split up into three above cases.\n",
      "\n",
      "$$\n",
      "= P(\\Gamma) \\sum_\\Gamma \\left(\\prod_{Case 1} P(M_j | \\Gamma)\\right) \\left(\\prod_{Case 2} P(M_j | \\Gamma)\\right) \\left(\\prod_{Case 3} P(M_j | \\Gamma)\\right)\n",
      "$$\n",
      "\n",
      "Note that case 1 and case 3 are actually identical so can be merged. Case 2 does not depend on gamma so can be taken out. Furthremore, we use similar techniques as last time and define the following...\n",
      "\n",
      "$$\n",
      "\\lambda(x) = \\left(1 - \\frac{2^{a - x} - 1}{2^a - 1}\\right)^2 {{a}\\choose{t_j}}\n",
      "$$\n",
      "\n",
      "Using this we get...\n",
      "\n",
      "$$\n",
      "= P(M_1)^{k - 2\\gamma} P(\\Gamma) \\left(\\sum_{j = 1}^{a} \\lambda(j) \\right)^\\gamma\n",
      "$$\n",
      "\n",
      "Where $P(M_1) = \\frac{2^{2a} - 3^a}{\\left(2^a - 1\\right)^2}$ and $P(\\Gamma) = \\left(\\frac{1}{2^a - 1}\\right)^\\gamma$"
     ]
    },
    {
     "cell_type": "code",
     "collapsed": false,
     "input": [
      "# Constants\n",
      "TRIALS = 100000\n",
      "\n",
      "def plot_diff(a, k, overlaps, trials=TRIALS):\n",
      "    theor = [match_overlaps.get_single_match(a, k, overlap) for overlap in overlaps]\n",
      "    sim = [match_overlaps.sim_single_match(a, k, overlap, TRIALS) for overlap in overlaps]\n",
      "    absolute_diff = [(sim[i] - theor[i]) for i in range(len(theor))]\n",
      "    relative_diff = [0 if theor[i] == 0 else absolute_diff[i]/theor[i] for i in range(len(theor))]\n",
      "    print 'Absolute Difference:', absolute_diff\n",
      "    print 'Relative Difference:', relative_diff\n",
      "    \n",
      "    plt.plot(overlaps, relative_diff)\n",
      "    plt.title('Relative Difference; a = ' + str(a) + '; k = ' + str(k))\n",
      "    plt.xlabel('Number of Intersections')\n",
      "    plt.ylabel('Relative Difference')\n",
      "    plt.show()\n",
      "\n",
      "plot_diff(4, 7, range(1, 4))    \n",
      "plot_diff(4, 20, range(1, 10))"
     ],
     "language": "python",
     "metadata": {},
     "outputs": [
      {
       "output_type": "stream",
       "stream": "stdout",
       "text": [
        "Absolute Difference: [0.0014224277702823696, -0.0023178112377480187, 0.0007534236121637672]\n",
        "Relative Difference: [0.007922289077027899, -0.012379631115832391, 0.0038590290103586735]\n"
       ]
      },
      {
       "metadata": {},
       "output_type": "display_data",
       "png": "[encoded data removed]",
       "text": [
        "<matplotlib.figure.Figure at 0x7f96c03461d0>"
       ]
      },
      {
       "output_type": "stream",
       "stream": "stdout",
       "text": [
        "Absolute Difference: [2.6134993264850283e-05, -0.00042661482416610653, 0.0002181128356001736, 0.0003497823152617636, 7.835044502347427e-06, -0.0002583114401246561, 7.073548276307143e-05, -0.0005556575463824126, -9.815097938685284e-05]\n",
        "Relative Difference: [0.003818747628588589, -0.05977831712613904, 0.029308807132090393, 0.0450737762098696, 0.0009682259995237068, -0.0306117452475587, 0.0080387949043363, -0.06055779038979999, -0.010258092665793467]\n"
       ]
      },
      {
       "metadata": {},
       "output_type": "display_data",
       "png": "[encoded data removed]",
       "text": [
        "<matplotlib.figure.Figure at 0x7f96c02637d0>"
       ]
      }
     ],
     "prompt_number": 4
    },
    {
     "cell_type": "markdown",
     "metadata": {},
     "source": [
      "Plots suggest this probability may be correct."
     ]
    }
   ],
   "metadata": {}
  }
 ]
}