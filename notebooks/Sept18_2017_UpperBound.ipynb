{
 "cells": [
  {
   "cell_type": "code",
   "execution_count": 1,
   "metadata": {
    "collapsed": true
   },
   "outputs": [],
   "source": [
    "# Run this first!!!\n",
    "from IPython.display import display, HTML\n",
    "\n",
    "from __future__ import division\n",
    "import matplotlib.pyplot as plt\n",
    "import numpy as np\n",
    "from scipy.stats.stats import pearsonr\n",
    "import random\n",
    "\n",
    "import sys\n",
    "sys.path.append('../experimental')\n",
    "import upper_bound\n",
    "sys.path.append('../common')\n",
    "import util\n",
    "import common_probs\n",
    "from sampler import DepthSampler\n",
    "from sampling_misc import sample_failure_depth_size_trend"
   ]
  },
  {
   "cell_type": "markdown",
   "metadata": {},
   "source": [
    "## Evaluating Signature Upper Bound\n",
    "\n",
    "First we should see if the upper bound based on the \"failure chain signature\" is worth exploring further. It turns out that we can do the following upper bound:\n",
    "\n",
    "$$\n",
    "S_{n + 1} \\leq \\sum_{k = 1}^n 2^{\\sum_{j < k} \\mathbb{1}\\left(G[1:k] == G[n-k:k] \\textrm{ and } G[1:j] == G[n-j:j]\\right)}\n",
    "$$\n",
    "\n",
    "Why is this the case? This upper bound accounts for a failure possibly going back to depth $k$ and then counts all the possible depths that can be in the failure chain signature. Since we could possibly have any subset of this, we do 2 raised to this quantity.\n",
    "\n",
    "Below I simulated this upper bound along with the actual depth sizes. However, we find that this upper bound performs extremely poorly and should probably not be explored more."
   ]
  },
  {
   "cell_type": "code",
   "execution_count": 2,
   "metadata": {
    "collapsed": true
   },
   "outputs": [],
   "source": [
    "def sample(probs, length, num_samples):\n",
    "    ds = DepthSampler(probs, length)\n",
    "    return ds.draw_samples(num_samples, ['states', 'threads'])\n",
    "\n",
    "def plot_states(probs, length, num_samples):\n",
    "    df = sample(probs, length, num_samples)\n",
    "    states = df.groupby('depth')['states'].mean().tolist()\n",
    "    depths = range(length + 1)\n",
    "    plt.plot(depths, states)\n",
    "    uppers = upper_bound.average_signature_bound(probs, num_samples, length)\n",
    "    plt.plot(depths, uppers)\n",
    "    plt.xlabel('Depth')\n",
    "    plt.ylabel('Average Number of States')\n",
    "    plt.title('Average Number of States vs Depth')\n",
    "    plt.show()"
   ]
  },
  {
   "cell_type": "code",
   "execution_count": 6,
   "metadata": {},
   "outputs": [
    {
     "data": {
      "image/png": "[encoded data removed]",
      "text/plain": [
       "<matplotlib.figure.Figure at 0x7f2b65abd750>"
      ]
     },
     "metadata": {},
     "output_type": "display_data"
    }
   ],
   "source": [
    "PROBS = [0.25, 0.5, 0.7, 0.3]\n",
    "DEPTH = 50\n",
    "NUM_SAMPLES = 10000\n",
    "\n",
    "plot_states(PROBS, DEPTH, NUM_SAMPLES)"
   ]
  },
  {
   "cell_type": "markdown",
   "metadata": {},
   "source": [
    "## Correlation Between $S_k$ and Failure to Depth $k$\n",
    "\n",
    "Going back to the other model that was being looked at, it turns out that it could be possible to prove under a certain lattice (partially ordered set with unique lower bounds/upper bounds) that assuming independence over expectations would actually result in an upper bound if the two things we are measuring are negatively correlated. Some other intuition about this follows from\n",
    "\n",
    "$$\n",
    "E[X]E[Y] + Cov(X, Y) = E[XY]\n",
    "$$\n",
    "\n",
    "Thus we want Cov(X,Y) to be negative (i.e. negatively correlated). I started trying to think of potentially good latices to do this (it seems like best would be to continue latices in terms of generalized strings not DFAs). However, upon further thought, it seems that size of depth $k$ and whether there is a suffix of length $k$ matching with prefix of length $k$ should always be positively correlated. Some intuition for this is that as we get bigger depth sizes we expect that the number of possible combintations are more \"dense\" for the first $k$ letters. Thus it is more likely to have a match with a $k$ length suffix.\n",
    "\n",
    "I did simulations below to test this hypothesis and it seems like it is true that they are positively correlated."
   ]
  },
  {
   "cell_type": "code",
   "execution_count": 18,
   "metadata": {},
   "outputs": [
    {
     "name": "stdout",
     "output_type": "stream",
     "text": [
      "\n",
      "------------Depth Size Conditioned on Has Failure--------------\n",
      "has_failure\n",
      "0    1.985047\n",
      "1    2.387097\n",
      "Name: depth_size, dtype: float64\n",
      "\n",
      "------------Depth Size Conditioned on String Match--------------\n",
      "string_match\n",
      "False    1.984934\n",
      "True     2.383795\n",
      "Name: depth_size, dtype: float64\n",
      "\n",
      "------------Expected Values---------------\n",
      "E[S_k] = 2.172000 \n",
      "P(G Match) = 0.469000\n",
      "E[S_k] P(G Match) = 1.018668\n",
      "E[S_k and G Match] = 2.383795\n",
      "E[S_k] P(G Match) - E[S_k and G Match] = -1.365127\n"
     ]
    }
   ],
   "source": [
    "NUM_SAMPLES = 1000\n",
    "PROBS = [0.5 for _ in range(4)]\n",
    "DEPTH1 = 3\n",
    "DEPTH2 = 7\n",
    "\n",
    "# Get data frame of samples.\n",
    "df = sample_failure_depth_size_trend(NUM_SAMPLES, PROBS, DEPTH1, DEPTH2)\n",
    "\n",
    "# Find mean number of states in DEPTH1 conditioned on if\n",
    "# DEPTH2 has a failure to DEPTH1\n",
    "print '\\n------------Depth Size Conditioned on Has Failure--------------'\n",
    "print df.groupby('has_failure')['depth_size'].mean()\n",
    "\n",
    "# Find mean number of states in DEPTH1 conditioned on if\n",
    "# G[1:DEPTH1] == G[DEPTH2 - DEPTH1:DEPTH1]\n",
    "print '\\n------------Depth Size Conditioned on String Match--------------'\n",
    "print df.groupby('string_match')['depth_size'].mean()\n",
    "\n",
    "# Compute expected values and see if we can see a relation.\n",
    "e_xy = df[df['string_match'] == 1]['depth_size'].mean()\n",
    "e_x = df['depth_size'].mean()\n",
    "e_y = df['string_match'].mean()\n",
    "print '\\n------------Expected Values---------------'\n",
    "print 'E[S_k] = %f ' % e_x\n",
    "print 'P(G Match) = %f' % e_y\n",
    "print 'E[S_k] P(G Match) = %f' % (e_x * e_y)\n",
    "print 'E[S_k and G Match] = %f' % e_xy\n",
    "print 'E[S_k] P(G Match) - E[S_k and G Match] = %f' % (e_x * e_y - e_xy)"
   ]
  },
  {
   "cell_type": "markdown",
   "metadata": {},
   "source": [
    "## Correlation Between Depth Size and Offspring Distribution\n",
    "\n",
    "If we go back to the model before both of these though, there might be quantities that are negatively correlated here that would allow us to apply this trick.\n",
    "\n",
    "Recall that the relation that I observed before had to do with \"threads\" where $Z_n$ is the number of threads in a depth. In particular...\n",
    "\n",
    "$$\n",
    "Z_{n + 1} = X_{n + 1} + \\sum_{m > 0} \\sum_{i = 1}^m Y_{i, n} \\mathbb{1}\\left(Z_n = m\\right)\n",
    "$$\n",
    "\n",
    "Where $X_n$ is whether there is a new thread at depth $n$ and $Y_{i, n}$ is how many child threads state $i$ in depth $n$ has (also note that each child is only counted once in case we share children). It could be that $Y_{i, n}$ and $Z_n = m$ are negatively correlated because if we have a lot of parents and they have a lot of children then it blows up.\n",
    "\n",
    "I tested this hypothesis below and it seems like the two might be very slightly negatively correlated. Now we just need to see if we can prove this from a theoretical perspective..."
   ]
  },
  {
   "cell_type": "code",
   "execution_count": 25,
   "metadata": {},
   "outputs": [
    {
     "data": {
      "image/png": "[encoded data removed]",
      "text/plain": [
       "<matplotlib.figure.Figure at 0x7f884325c950>"
      ]
     },
     "metadata": {},
     "output_type": "display_data"
    },
    {
     "name": "stdout",
     "output_type": "stream",
     "text": [
      "Pearson R Coef: -0.078923\n",
      "P-Value: 0.016184\n"
     ]
    }
   ],
   "source": [
    "NUM_SAMPLES = 1000\n",
    "PROBS = [0.5 for _ in range(4)]\n",
    "DEPTH = 20\n",
    "\n",
    "# Get the dataframe with the samples.\n",
    "ds = DepthSampler(PROBS, DEPTH + 1)\n",
    "df = ds.draw_samples(NUM_SAMPLES, ['states', 'thread_children'])\n",
    "\n",
    "# Get points of (depth size, single thread offspring dist) for DEPTH.\n",
    "# Remove outliers for depth size.\n",
    "depth_points = df[np.abs(df['states']-df['states'].mean())<=(3*df['states'].std())]\n",
    "depth_points = depth_points[depth_points['depth'] == DEPTH]\n",
    "depth_size = []\n",
    "offspring_dist = []\n",
    "for row_ind in xrange(len(depth_points)):\n",
    "    childrens = depth_points.iloc[row_ind]['thread_children']\n",
    "    if len(childrens) > 0:\n",
    "        depth_size.append(depth_points.iloc[row_ind]['states'])\n",
    "        offspring_dist.append(random.choice(childrens))\n",
    "\n",
    "# Plot the points to see any visual correlation.\n",
    "plt.plot(depth_size, offspring_dist, 'o')\n",
    "plt.show()\n",
    "\n",
    "# Find Pearson correlation coefficient.\n",
    "r_coef, p_value = pearsonr(depth_size, offspring_dist)\n",
    "print 'Pearson R Coef: %f' % r_coef\n",
    "print 'P-Value: %f' % p_value"
   ]
  },
  {
   "cell_type": "markdown",
   "metadata": {},
   "source": [
    "## How Could I prove the Above?\n",
    "\n",
    "The hard part comes now with proving that size of depth $n$ and any given offspring distribution at that depth are negatively correlated. Of course, a formal proof of this would have a distributive lattice and such; however, here are some initial ideas of where to possibly get started.\n",
    "\n",
    "It might be beneficial to think of everything in terms of languages. Recall that the language of state $s$, $\\mathcal{L}(s)$ is the set of all string that allow for us to get to state $s$. I think I also defined before $\\mathcal{L}_k(s)$ as the set of strings of length $k$ that take us to $s$. If $s$ is at depth $k$ then these are the strings that take us directly to $s$ without any failure transitions.\n",
    "\n",
    "Note for the states in depth $k$, $\\mathcal{S}_k$, the following is a partition for generalized string prefixes of length $k$.\n",
    "\n",
    "$$\n",
    "\\cup_{s \\in \\mathcal{S}_k} \\mathcal{L}_k(s)\n",
    "$$\n",
    "\n",
    "Let's fix $s \\in \\mathcal{S}_k$ and think about it. First note that the union of all of $s$'s children's languages will be equal to $\\mathcal{L}_k(s) G[k+1]$. If there are a lot of states in depth $k$, it could be that $|\\mathcal{L}_k(s)|$. This might imply that $|\\mathcal{L}_k(s) G[k+1]|$ is small as well. If this quantity is small, you might not need as many states to cover al of the variation in the set. This is not a solid argument however, since the number of states most likely grows with how many prefixes of size $k$ there are. However, this kind of conceptually tells you why these might be negatively correlated."
   ]
  }
 ],
 "metadata": {
  "kernelspec": {
   "display_name": "Python 2",
   "language": "python",
   "name": "python2"
  },
  "language_info": {
   "codemirror_mode": {
    "name": "ipython",
    "version": 2
   },
   "file_extension": ".py",
   "mimetype": "text/x-python",
   "name": "python",
   "nbconvert_exporter": "python",
   "pygments_lexer": "ipython2",
   "version": "2.7.12"
  }
 },
 "nbformat": 4,
 "nbformat_minor": 2
}
