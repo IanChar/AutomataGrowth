{
 "cells": [
  {
   "cell_type": "code",
   "execution_count": 1,
   "metadata": {
    "collapsed": true
   },
   "outputs": [],
   "source": [
    "# Run this first!!!\n",
    "from IPython.display import display, HTML\n",
    "\n",
    "from __future__ import division\n",
    "import matplotlib.pyplot as plt\n",
    "import numpy as np\n",
    "\n",
    "import sys\n",
    "sys.path.append('../common')\n",
    "import common_probs\n",
    "from sampler import DepthSampler\n",
    "sys.path.append('../experimental')\n",
    "from signature_size_model import SignatureSizeModel"
   ]
  },
  {
   "cell_type": "markdown",
   "metadata": {},
   "source": [
    "# Designing a New Size Model Based on Signatures\n",
    "\n",
    "Recall that I had before defined the signature of a state to be the depths that the failure chain visits. e.g. (0, 1, 3) the failure would go to 3, then 1, then 0. I also had an argument for why each signature in a depth corresponded to a unique state. What I realized was also the case is that if $j$ appears in a signature, this means that $j - 1$ must necessarily appear in the parent's signatures. Why is this? We can think of the substrings that match with the prefix in the $n$ length generalized string so that we already know their position and length. Then as we read in more the generalized string we encounter these substrings. Let's say we see a substring of length 4, that means in the last iteration we had only seen 3 characters out of that string.\n",
    "\n",
    "This seems to lend itself well to some stochastic process in which we either add one to elements in the signature or discard the entry. Below I tested whether this model accurately describes the size of depths in expectation."
   ]
  },
  {
   "cell_type": "code",
   "execution_count": 4,
   "metadata": {},
   "outputs": [
    {
     "data": {
      "image/png": "[encoded data removed]",
      "text/plain": [
       "<matplotlib.figure.Figure at 0x7f1204944cd0>"
      ]
     },
     "metadata": {},
     "output_type": "display_data"
    }
   ],
   "source": [
    "PROBS = [0.5 for _ in range(4)]\n",
    "LENGTH = 30\n",
    "SIMS = 1000\n",
    "\n",
    "depths = range(LENGTH + 1)\n",
    "\n",
    "# Get simulated average depth.\n",
    "ds = DepthSampler(PROBS, LENGTH)\n",
    "df = ds.draw_samples(SIMS, ['states'])\n",
    "sim_avgs = df.groupby('depth').mean()\n",
    "\n",
    "# Get the average depth size of the signature model.\n",
    "ssm = SignatureSizeModel(PROBS, LENGTH)\n",
    "sig_avgs = ssm.get_average_depth_sizes(SIMS)\n",
    "\n",
    "# Plot\n",
    "plt.plot(depths, sig_avgs)\n",
    "plt.plot(depths, sim_avgs, '--r', label='Simulated Averages')\n",
    "plt.xlabel('Depth')\n",
    "plt.ylabel('Depth Size')\n",
    "plt.title('Depth Size vs Depth')\n",
    "plt.show()"
   ]
  },
  {
   "cell_type": "markdown",
   "metadata": {},
   "source": [
    "This model seems to be an upper bound to the actual simulation. This is probably due to the fact that we do not consider dependencies between strings. That is, whenever we see if two letter sets match, two new sets are generated. However, this is still a pretty tight upper bound so if we could find the things for this model it would still be good. Would also need to prove that this model is an upper bound though, which could be tough."
   ]
  },
  {
   "cell_type": "markdown",
   "metadata": {
    "collapsed": true
   },
   "source": [
    "# Attempting to Analytically Describe Model.\n",
    "\n",
    "Let $Z_n$ be the number of states at depth $n$ and $\\Lambda_n$ be the set of state signatures at depth $n$. Let $Y_{\\lambda, n}$ be the offspring the state with signature $\\lambda$ has. Finally, let $X_n$ be the number of states from different parents that were merged at depth $n$. Then we have,\n",
    "\n",
    "$$\n",
    "Z_{n + 1} = \\sum_{\\lambda \\in \\Lambda_n} Y_{\\lambda, n} - X_{n + 1}\n",
    "$$\n",
    "\n",
    "Assuming things about independence...\n",
    "\n",
    "$$\n",
    "E[Z_{n + 1}] = E[Z_n] \\sum_{\\lambda} E[Y_{\\lambda, n}] P(\\lambda) - E[X_{n + 1}]\n",
    "$$\n",
    "\n",
    "One of the hardest parts of this seems to be finding $P(\\lambda)$. However, I think this could be done with a Markov chain. Consider the chain with states labelled $0$ to $n$ (the length of the generalized string). $M$ is the ptm where $m_{i, j} = c_2^{j} (1 - c_2)^{i - j + 1}$ for $0 \\leq j \\leq i + 1$. This ptm assumes that all substrings are independent which is certainly not the case. However, making this assumption should be an upper bound since we are alleviating requirements that any one set of letters must fulfill (maybe???). The probability of  seeing $\\lambda$ at depth $n$ is then $(M^n)_{0, j}$."
   ]
  }
 ],
 "metadata": {
  "kernelspec": {
   "display_name": "Python 2",
   "language": "python",
   "name": "python2"
  },
  "language_info": {
   "codemirror_mode": {
    "name": "ipython",
    "version": 2
   },
   "file_extension": ".py",
   "mimetype": "text/x-python",
   "name": "python",
   "nbconvert_exporter": "python",
   "pygments_lexer": "ipython2",
   "version": "2.7.12"
  }
 },
 "nbformat": 4,
 "nbformat_minor": 2
}
